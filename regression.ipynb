{
 "cells": [
  {
   "cell_type": "code",
   "execution_count": 2,
   "id": "0dc2e0d6-5f86-4833-96cb-9b2c3a784fb2",
   "metadata": {},
   "outputs": [],
   "source": [
    "import pandas as pd"
   ]
  },
  {
   "cell_type": "code",
   "execution_count": 3,
   "id": "5372dd6e-a4f5-413e-8e9d-0048b242aaf4",
   "metadata": {},
   "outputs": [
    {
     "name": "stderr",
     "output_type": "stream",
     "text": [
      "/tmp/ipykernel_3832902/246703226.py:13: FutureWarning: A value is trying to be set on a copy of a DataFrame or Series through chained assignment using an inplace method.\n",
      "The behavior will change in pandas 3.0. This inplace method will never work because the intermediate object on which we are setting values always behaves as a copy.\n",
      "\n",
      "For example, when doing 'df[col].method(value, inplace=True)', try using 'df.method({col: value}, inplace=True)' or df[col] = df[col].method(value) instead, to perform the operation inplace on the original object.\n",
      "\n",
      "\n",
      "  df['Age'].fillna(mean, inplace=True)\n"
     ]
    }
   ],
   "source": [
    "df = pd.read_excel('/data_vault/hexai02/CarpalTunnel/AI Project Data Clean 10-8.xlsx')\n",
    "df['Clinical Signs of CTS'].unique()\n",
    "df['Clinical Signs of CTS'] = df['Clinical Signs of CTS'].replace('Yes', 'Y')\n",
    "df['Clinical Signs of CTS'].unique()\n",
    "count_question_mark = (df['Clinical Signs of CTS'] == '?').sum()\n",
    "df = df[df['Clinical Signs of CTS'] != '?']\n",
    "df['Number'] = df['Number'].astype(str)\n",
    "# Replace both variations of 'Unreported/Chose not to disclose' with a unified value\n",
    "df['Ethnicity'] = df['Ethnicity'].replace(['Unreported/Chose not to disclose', 'Unreported/Chose Not to Disclose'], \n",
    "                                          'Unreported/Chose not to disclose')\n",
    "df = df.dropna(subset='Measurement at Wrist')\n",
    "mean = df['Age'].mean()\n",
    "df['Age'].fillna(mean, inplace=True)"
   ]
  },
  {
   "cell_type": "code",
   "execution_count": 4,
   "id": "a053b17d-66aa-46e5-80a2-22f5c0341771",
   "metadata": {},
   "outputs": [
    {
     "data": {
      "text/html": [
       "<div>\n",
       "<style scoped>\n",
       "    .dataframe tbody tr th:only-of-type {\n",
       "        vertical-align: middle;\n",
       "    }\n",
       "\n",
       "    .dataframe tbody tr th {\n",
       "        vertical-align: top;\n",
       "    }\n",
       "\n",
       "    .dataframe thead th {\n",
       "        text-align: right;\n",
       "    }\n",
       "</style>\n",
       "<table border=\"1\" class=\"dataframe\">\n",
       "  <thead>\n",
       "    <tr style=\"text-align: right;\">\n",
       "      <th></th>\n",
       "      <th>Number</th>\n",
       "      <th>WristImage Segmentation for AI Analysis</th>\n",
       "      <th>Arm (L/R)</th>\n",
       "      <th>Sex</th>\n",
       "      <th>Race</th>\n",
       "      <th>Ethnicity</th>\n",
       "      <th>Age</th>\n",
       "      <th>Clinical Signs of CTS</th>\n",
       "      <th>CTS-6 Score</th>\n",
       "      <th>Measurement at Wrist</th>\n",
       "    </tr>\n",
       "  </thead>\n",
       "  <tbody>\n",
       "    <tr>\n",
       "      <th>0</th>\n",
       "      <td>21</td>\n",
       "      <td>Yes</td>\n",
       "      <td>R</td>\n",
       "      <td>M</td>\n",
       "      <td>White</td>\n",
       "      <td>Non-Hispanic</td>\n",
       "      <td>43.0</td>\n",
       "      <td>Y</td>\n",
       "      <td>12.5</td>\n",
       "      <td>12.16</td>\n",
       "    </tr>\n",
       "    <tr>\n",
       "      <th>1</th>\n",
       "      <td>22</td>\n",
       "      <td>Yes</td>\n",
       "      <td>R</td>\n",
       "      <td>M</td>\n",
       "      <td>White</td>\n",
       "      <td>Unreported/Chose not to disclose</td>\n",
       "      <td>74.0</td>\n",
       "      <td>Y</td>\n",
       "      <td>16.5</td>\n",
       "      <td>20.10</td>\n",
       "    </tr>\n",
       "    <tr>\n",
       "      <th>2</th>\n",
       "      <td>23</td>\n",
       "      <td>Yes</td>\n",
       "      <td>L</td>\n",
       "      <td>M</td>\n",
       "      <td>White</td>\n",
       "      <td>Unreported/Chose not to disclose</td>\n",
       "      <td>74.0</td>\n",
       "      <td>Y</td>\n",
       "      <td>11.5</td>\n",
       "      <td>13.83</td>\n",
       "    </tr>\n",
       "    <tr>\n",
       "      <th>3</th>\n",
       "      <td>24</td>\n",
       "      <td>Yes</td>\n",
       "      <td>R</td>\n",
       "      <td>F</td>\n",
       "      <td>Black</td>\n",
       "      <td>Non-Hispanic</td>\n",
       "      <td>63.0</td>\n",
       "      <td>Y</td>\n",
       "      <td>21.0</td>\n",
       "      <td>16.55</td>\n",
       "    </tr>\n",
       "    <tr>\n",
       "      <th>4</th>\n",
       "      <td>25</td>\n",
       "      <td>Yes</td>\n",
       "      <td>R</td>\n",
       "      <td>M</td>\n",
       "      <td>White</td>\n",
       "      <td>Non-Hispanic</td>\n",
       "      <td>49.0</td>\n",
       "      <td>Y</td>\n",
       "      <td>9.0</td>\n",
       "      <td>19.21</td>\n",
       "    </tr>\n",
       "  </tbody>\n",
       "</table>\n",
       "</div>"
      ],
      "text/plain": [
       "  Number WristImage Segmentation for AI Analysis Arm (L/R) Sex   Race  \\\n",
       "0     21                                     Yes         R   M  White   \n",
       "1     22                                     Yes         R   M  White   \n",
       "2     23                                     Yes         L   M  White   \n",
       "3     24                                     Yes         R   F  Black   \n",
       "4     25                                     Yes         R   M  White   \n",
       "\n",
       "                          Ethnicity   Age Clinical Signs of CTS  CTS-6 Score  \\\n",
       "0                      Non-Hispanic  43.0                     Y         12.5   \n",
       "1  Unreported/Chose not to disclose  74.0                     Y         16.5   \n",
       "2  Unreported/Chose not to disclose  74.0                     Y         11.5   \n",
       "3                      Non-Hispanic  63.0                     Y         21.0   \n",
       "4                      Non-Hispanic  49.0                     Y          9.0   \n",
       "\n",
       "   Measurement at Wrist  \n",
       "0                 12.16  \n",
       "1                 20.10  \n",
       "2                 13.83  \n",
       "3                 16.55  \n",
       "4                 19.21  "
      ]
     },
     "execution_count": 4,
     "metadata": {},
     "output_type": "execute_result"
    }
   ],
   "source": [
    "df.head()"
   ]
  },
  {
   "cell_type": "code",
   "execution_count": 5,
   "id": "6ca32ffb-c52c-435a-ad9f-40238a7483f8",
   "metadata": {},
   "outputs": [
    {
     "data": {
      "text/plain": [
       "Number                                      0\n",
       "WristImage Segmentation for AI Analysis     0\n",
       "Arm (L/R)                                   0\n",
       "Sex                                         0\n",
       "Race                                        0\n",
       "Ethnicity                                   0\n",
       "Age                                         0\n",
       "Clinical Signs of CTS                       0\n",
       "CTS-6 Score                                16\n",
       "Measurement at Wrist                        0\n",
       "dtype: int64"
      ]
     },
     "execution_count": 5,
     "metadata": {},
     "output_type": "execute_result"
    }
   ],
   "source": [
    "df.isna().sum()"
   ]
  },
  {
   "cell_type": "code",
   "execution_count": 6,
   "id": "b885f465-c95b-4169-b5ec-b58ca967cb02",
   "metadata": {},
   "outputs": [],
   "source": [
    "test_df = df.dropna(subset=['Clinical Signs of CTS', 'CTS-6 Score'])"
   ]
  },
  {
   "cell_type": "code",
   "execution_count": null,
   "id": "cb3c4d73-8099-4062-b045-a3d0b37d2c63",
   "metadata": {},
   "outputs": [],
   "source": [
    "restructured_root = 'data_yolo'\n",
    "image_dir = os.path.join(restructured_root, 'images')\n",
    "image_train_dir = os.path.join(image_dir, 'train')\n",
    "image_val_dir = os.path.join(image_dir, 'val')\n",
    "image_test_dir = os.path.join(image_dir, 'test')\n",
    "label_dir = os.path.join(restructured_root, 'labels')\n",
    "label_train_dir = os.path.join(label_dir, 'train')\n",
    "label_val_dir = os.path.join(label_dir, 'val')"
   ]
  },
  {
   "cell_type": "code",
   "execution_count": null,
   "id": "6876374d-30d0-4840-bcd3-603aa4adef52",
   "metadata": {},
   "outputs": [],
   "source": [
    "anno_dir = '/data_vault/hexai02/CarpalTunnel/Annotations'\n",
    "dicom_dir = '/data_vault/hexai02/CarpalTunnel/Images'"
   ]
  },
  {
   "cell_type": "code",
   "execution_count": null,
   "id": "5d909069-1bfe-4bf8-b96a-79ac94eb4cfa",
   "metadata": {},
   "outputs": [],
   "source": [
    "def load_mask(mask_path):\n",
    "    mask = sitk.ReadImage(mask_path)\n",
    "    return sitk.GetArrayFromImage(mask)[0][: 450, 200: 1300]\n",
    "\n",
    "def load_dicom(dicom_path):\n",
    "    dicom_data = pydicom.dcmread(dicom_path)\n",
    "    return dicom_data.pixel_array[: 450, 200: 1300]"
   ]
  },
  {
   "cell_type": "code",
   "execution_count": null,
   "id": "923c3c30-b754-43a7-b87b-f7da4412a8c6",
   "metadata": {},
   "outputs": [],
   "source": []
  }
 ],
 "metadata": {
  "kernelspec": {
   "display_name": "Python 3 (ipykernel)",
   "language": "python",
   "name": "python3"
  },
  "language_info": {
   "codemirror_mode": {
    "name": "ipython",
    "version": 3
   },
   "file_extension": ".py",
   "mimetype": "text/x-python",
   "name": "python",
   "nbconvert_exporter": "python",
   "pygments_lexer": "ipython3",
   "version": "3.10.12"
  }
 },
 "nbformat": 4,
 "nbformat_minor": 5
}
