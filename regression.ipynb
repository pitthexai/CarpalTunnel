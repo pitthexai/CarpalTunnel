{
 "cells": [
  {
   "cell_type": "code",
   "execution_count": 50,
   "id": "0dc2e0d6-5f86-4833-96cb-9b2c3a784fb2",
   "metadata": {},
   "outputs": [],
   "source": [
    "import pandas as pd\n",
    "import os\n",
    "from tqdm import tqdm\n",
    "import pydicom\n",
    "from ultralytics import YOLO\n",
    "import numpy as np\n",
    "import matplotlib.pyplot as plt\n",
    "import torch\n",
    "import torch.nn as nn\n",
    "import torchvision.transforms as T\n",
    "import segmentation_models_pytorch as smp\n",
    "from torch.cuda.amp import autocast\n",
    "from torch.utils.data import Dataset, DataLoader\n",
    "from torchsummary import summary\n",
    "from utils import *\n",
    "from torcheval.metrics import R2Score\n",
    "device = 'cuda' if torch.cuda.is_available() else 'cpu'"
   ]
  },
  {
   "cell_type": "code",
   "execution_count": 2,
   "id": "5372dd6e-a4f5-413e-8e9d-0048b242aaf4",
   "metadata": {},
   "outputs": [
    {
     "name": "stderr",
     "output_type": "stream",
     "text": [
      "/tmp/ipykernel_962621/246703226.py:13: FutureWarning: A value is trying to be set on a copy of a DataFrame or Series through chained assignment using an inplace method.\n",
      "The behavior will change in pandas 3.0. This inplace method will never work because the intermediate object on which we are setting values always behaves as a copy.\n",
      "\n",
      "For example, when doing 'df[col].method(value, inplace=True)', try using 'df.method({col: value}, inplace=True)' or df[col] = df[col].method(value) instead, to perform the operation inplace on the original object.\n",
      "\n",
      "\n",
      "  df['Age'].fillna(mean, inplace=True)\n"
     ]
    }
   ],
   "source": [
    "df = pd.read_csv('cleaned_data.csv')\n",
    "df = df.dropna(subset='Measurement at Wrist')\n",
    "mean = df['Age'].mean()\n",
    "df['Age'].fillna(mean, inplace=True)"
   ]
  },
  {
   "cell_type": "code",
   "execution_count": 3,
   "id": "a053b17d-66aa-46e5-80a2-22f5c0341771",
   "metadata": {},
   "outputs": [
    {
     "data": {
      "text/html": [
       "<div>\n",
       "<style scoped>\n",
       "    .dataframe tbody tr th:only-of-type {\n",
       "        vertical-align: middle;\n",
       "    }\n",
       "\n",
       "    .dataframe tbody tr th {\n",
       "        vertical-align: top;\n",
       "    }\n",
       "\n",
       "    .dataframe thead th {\n",
       "        text-align: right;\n",
       "    }\n",
       "</style>\n",
       "<table border=\"1\" class=\"dataframe\">\n",
       "  <thead>\n",
       "    <tr style=\"text-align: right;\">\n",
       "      <th></th>\n",
       "      <th>Number</th>\n",
       "      <th>WristImage Segmentation for AI Analysis</th>\n",
       "      <th>Arm (L/R)</th>\n",
       "      <th>Sex</th>\n",
       "      <th>Race</th>\n",
       "      <th>Ethnicity</th>\n",
       "      <th>Age</th>\n",
       "      <th>Clinical Signs of CTS</th>\n",
       "      <th>CTS-6 Score</th>\n",
       "      <th>Measurement at Wrist</th>\n",
       "    </tr>\n",
       "  </thead>\n",
       "  <tbody>\n",
       "    <tr>\n",
       "      <th>0</th>\n",
       "      <td>21</td>\n",
       "      <td>Yes</td>\n",
       "      <td>R</td>\n",
       "      <td>M</td>\n",
       "      <td>White</td>\n",
       "      <td>Non-Hispanic</td>\n",
       "      <td>43.0</td>\n",
       "      <td>Y</td>\n",
       "      <td>12.5</td>\n",
       "      <td>12.16</td>\n",
       "    </tr>\n",
       "    <tr>\n",
       "      <th>1</th>\n",
       "      <td>22</td>\n",
       "      <td>Yes</td>\n",
       "      <td>R</td>\n",
       "      <td>M</td>\n",
       "      <td>White</td>\n",
       "      <td>Unreported/Chose not to disclose</td>\n",
       "      <td>74.0</td>\n",
       "      <td>Y</td>\n",
       "      <td>16.5</td>\n",
       "      <td>20.10</td>\n",
       "    </tr>\n",
       "    <tr>\n",
       "      <th>2</th>\n",
       "      <td>23</td>\n",
       "      <td>Yes</td>\n",
       "      <td>L</td>\n",
       "      <td>M</td>\n",
       "      <td>White</td>\n",
       "      <td>Unreported/Chose not to disclose</td>\n",
       "      <td>74.0</td>\n",
       "      <td>Y</td>\n",
       "      <td>11.5</td>\n",
       "      <td>13.83</td>\n",
       "    </tr>\n",
       "    <tr>\n",
       "      <th>3</th>\n",
       "      <td>24</td>\n",
       "      <td>Yes</td>\n",
       "      <td>R</td>\n",
       "      <td>F</td>\n",
       "      <td>Black</td>\n",
       "      <td>Non-Hispanic</td>\n",
       "      <td>63.0</td>\n",
       "      <td>Y</td>\n",
       "      <td>21.0</td>\n",
       "      <td>16.55</td>\n",
       "    </tr>\n",
       "    <tr>\n",
       "      <th>4</th>\n",
       "      <td>25</td>\n",
       "      <td>Yes</td>\n",
       "      <td>R</td>\n",
       "      <td>M</td>\n",
       "      <td>White</td>\n",
       "      <td>Non-Hispanic</td>\n",
       "      <td>49.0</td>\n",
       "      <td>Y</td>\n",
       "      <td>9.0</td>\n",
       "      <td>19.21</td>\n",
       "    </tr>\n",
       "  </tbody>\n",
       "</table>\n",
       "</div>"
      ],
      "text/plain": [
       "  Number WristImage Segmentation for AI Analysis Arm (L/R) Sex   Race  \\\n",
       "0     21                                     Yes         R   M  White   \n",
       "1     22                                     Yes         R   M  White   \n",
       "2     23                                     Yes         L   M  White   \n",
       "3     24                                     Yes         R   F  Black   \n",
       "4     25                                     Yes         R   M  White   \n",
       "\n",
       "                          Ethnicity   Age Clinical Signs of CTS  CTS-6 Score  \\\n",
       "0                      Non-Hispanic  43.0                     Y         12.5   \n",
       "1  Unreported/Chose not to disclose  74.0                     Y         16.5   \n",
       "2  Unreported/Chose not to disclose  74.0                     Y         11.5   \n",
       "3                      Non-Hispanic  63.0                     Y         21.0   \n",
       "4                      Non-Hispanic  49.0                     Y          9.0   \n",
       "\n",
       "   Measurement at Wrist  \n",
       "0                 12.16  \n",
       "1                 20.10  \n",
       "2                 13.83  \n",
       "3                 16.55  \n",
       "4                 19.21  "
      ]
     },
     "execution_count": 3,
     "metadata": {},
     "output_type": "execute_result"
    }
   ],
   "source": [
    "df.head()"
   ]
  },
  {
   "cell_type": "code",
   "execution_count": 4,
   "id": "6ca32ffb-c52c-435a-ad9f-40238a7483f8",
   "metadata": {},
   "outputs": [
    {
     "data": {
      "text/plain": [
       "Number                                      0\n",
       "WristImage Segmentation for AI Analysis     0\n",
       "Arm (L/R)                                   0\n",
       "Sex                                         0\n",
       "Race                                        0\n",
       "Ethnicity                                   0\n",
       "Age                                         0\n",
       "Clinical Signs of CTS                       0\n",
       "CTS-6 Score                                16\n",
       "Measurement at Wrist                        0\n",
       "dtype: int64"
      ]
     },
     "execution_count": 4,
     "metadata": {},
     "output_type": "execute_result"
    }
   ],
   "source": [
    "df.isna().sum()"
   ]
  },
  {
   "cell_type": "code",
   "execution_count": 5,
   "id": "b885f465-c95b-4169-b5ec-b58ca967cb02",
   "metadata": {},
   "outputs": [],
   "source": [
    "test_df = df.dropna(subset=['Clinical Signs of CTS', 'CTS-6 Score'])"
   ]
  },
  {
   "cell_type": "code",
   "execution_count": 9,
   "id": "cb3c4d73-8099-4062-b045-a3d0b37d2c63",
   "metadata": {},
   "outputs": [],
   "source": [
    "restructured_root = 'data_yolo'\n",
    "image_dir = os.path.join(restructured_root, 'images')\n",
    "image_train_dir = os.path.join(image_dir, 'train')\n",
    "image_val_dir = os.path.join(image_dir, 'val')\n",
    "image_test_dir = os.path.join(image_dir, 'test')\n",
    "label_dir = os.path.join(restructured_root, 'labels')\n",
    "label_train_dir = os.path.join(label_dir, 'train')\n",
    "label_val_dir = os.path.join(label_dir, 'val')"
   ]
  },
  {
   "cell_type": "code",
   "execution_count": 7,
   "id": "6876374d-30d0-4840-bcd3-603aa4adef52",
   "metadata": {},
   "outputs": [],
   "source": [
    "anno_dir = '/data_vault/hexai02/CarpalTunnel/Annotations'\n",
    "dicom_dir = '/data_vault/hexai02/CarpalTunnel/Images'"
   ]
  },
  {
   "cell_type": "code",
   "execution_count": 11,
   "id": "5d909069-1bfe-4bf8-b96a-79ac94eb4cfa",
   "metadata": {},
   "outputs": [],
   "source": [
    "from Utilities.utilities import load_dicom, load_mask"
   ]
  },
  {
   "cell_type": "code",
   "execution_count": 12,
   "id": "923c3c30-b754-43a7-b87b-f7da4412a8c6",
   "metadata": {},
   "outputs": [
    {
     "name": "stdout",
     "output_type": "stream",
     "text": [
      "YOLO loaded\n"
     ]
    }
   ],
   "source": [
    "model = YOLO(\"runs/detect/train17/weights/best.pt\")\n",
    "model.eval()\n",
    "print('YOLO loaded')"
   ]
  },
  {
   "cell_type": "code",
   "execution_count": 13,
   "id": "95dc0363-2324-4080-8e17-911f22f5289e",
   "metadata": {},
   "outputs": [],
   "source": [
    "config = {\n",
    "    'epochs': 40,\n",
    "    'in_channels': 1,\n",
    "    'dropout': 0.2,\n",
    "    'decoder_attention_type': 'scse',\n",
    "    'init_lr': 5e-4,\n",
    "    'weight_decay': 0.05,\n",
    "    'T_max': 10,\n",
    "    'eta_min': 3e-5\n",
    "}"
   ]
  },
  {
   "cell_type": "code",
   "execution_count": 32,
   "id": "ce49cbf5-205b-43a6-ad97-ae27755287dc",
   "metadata": {},
   "outputs": [],
   "source": [
    "\n",
    "from Utilities.utilities import load_model, save_model"
   ]
  },
  {
   "cell_type": "code",
   "execution_count": 15,
   "id": "00a07208-b6bc-41f9-a522-12ce3bc8adda",
   "metadata": {},
   "outputs": [
    {
     "name": "stdout",
     "output_type": "stream",
     "text": [
      "UNET loaded\n"
     ]
    }
   ],
   "source": [
    "device = \"cuda\" if torch.cuda.is_available() else \"cpu\"\n",
    "\n",
    "unet_model = smp.Unet(encoder_name=\"resnet18\",in_channels=1,dropout=config['in_channels'],decoder_attention_type=config['decoder_attention_type']).to(device)\n",
    "\n",
    "# unet_model, _, _, _ = load_model(unet_model, optimizer=None, scheduler=None, path=f'unet_runs/epoch_40.pth')\n",
    "checkpoint = torch.load('unet_runs/epoch_40.pth', map_location=\"cuda\")\n",
    "unet_model.load_state_dict(checkpoint, strict=True)\n",
    "unet_model.eval()\n",
    "print('UNET loaded')"
   ]
  },
  {
   "cell_type": "code",
   "execution_count": 18,
   "id": "fa2b135b-6ecb-4a56-9ad9-cd4c3c56ca1e",
   "metadata": {},
   "outputs": [],
   "source": [
    "classModel = FullModel(ConvNext(in_chans=2,dims=[96,192,384,768],stages=[1,1,3,1]), \n",
    "                  ClassificationTail(768,num_classes=2,dropout_rate=0.2)).to(device)"
   ]
  },
  {
   "cell_type": "code",
   "execution_count": 19,
   "id": "e99341dd-82e0-4f40-b88b-0a906accd41c",
   "metadata": {},
   "outputs": [],
   "source": [
    "checkpoint_path = 'classification_runs/epoch_7.pth'\n",
    "state_dict = torch.load(checkpoint_path, map_location='cuda')  # or 'cuda' if using GPU\n",
    "classModel.load_state_dict(state_dict)\n",
    "\n",
    "classHead = classModel.backbone"
   ]
  },
  {
   "cell_type": "code",
   "execution_count": 23,
   "id": "1a1fd1be-d361-4fff-a7b7-b1c7578e94ad",
   "metadata": {},
   "outputs": [
    {
     "name": "stderr",
     "output_type": "stream",
     "text": [
      "  4%|▊                    | 4/101 [00:00<00:20,  4.78it/s]"
     ]
    },
    {
     "name": "stdout",
     "output_type": "stream",
     "text": [
      "43\n"
     ]
    },
    {
     "name": "stderr",
     "output_type": "stream",
     "text": [
      "  8%|█▋                   | 8/101 [00:01<00:13,  7.13it/s]"
     ]
    },
    {
     "name": "stdout",
     "output_type": "stream",
     "text": [
      "180\n"
     ]
    },
    {
     "name": "stderr",
     "output_type": "stream",
     "text": [
      " 11%|██▏                 | 11/101 [00:02<00:16,  5.57it/s]"
     ]
    },
    {
     "name": "stdout",
     "output_type": "stream",
     "text": [
      "185\n"
     ]
    },
    {
     "name": "stderr",
     "output_type": "stream",
     "text": [
      " 16%|███▏                | 16/101 [00:02<00:11,  7.48it/s]"
     ]
    },
    {
     "name": "stdout",
     "output_type": "stream",
     "text": [
      "175\n"
     ]
    },
    {
     "name": "stderr",
     "output_type": "stream",
     "text": [
      " 25%|████▉               | 25/101 [00:04<00:15,  5.04it/s]"
     ]
    },
    {
     "name": "stdout",
     "output_type": "stream",
     "text": [
      "173\n"
     ]
    },
    {
     "name": "stderr",
     "output_type": "stream",
     "text": [
      " 33%|██████▌             | 33/101 [00:06<00:10,  6.54it/s]"
     ]
    },
    {
     "name": "stdout",
     "output_type": "stream",
     "text": [
      "182\n"
     ]
    },
    {
     "name": "stderr",
     "output_type": "stream",
     "text": [
      " 48%|█████████▌          | 48/101 [00:08<00:06,  8.46it/s]"
     ]
    },
    {
     "name": "stdout",
     "output_type": "stream",
     "text": [
      "186\n"
     ]
    },
    {
     "name": "stderr",
     "output_type": "stream",
     "text": [
      " 51%|██████████▎         | 52/101 [00:09<00:06,  7.32it/s]"
     ]
    },
    {
     "name": "stdout",
     "output_type": "stream",
     "text": [
      "172\n"
     ]
    },
    {
     "name": "stderr",
     "output_type": "stream",
     "text": [
      " 59%|███████████▉        | 60/101 [00:10<00:06,  6.80it/s]"
     ]
    },
    {
     "name": "stdout",
     "output_type": "stream",
     "text": [
      "183\n"
     ]
    },
    {
     "name": "stderr",
     "output_type": "stream",
     "text": [
      " 67%|█████████████▍      | 68/101 [00:12<00:04,  8.12it/s]"
     ]
    },
    {
     "name": "stdout",
     "output_type": "stream",
     "text": [
      "184\n"
     ]
    },
    {
     "name": "stderr",
     "output_type": "stream",
     "text": [
      " 73%|██████████████▋     | 74/101 [00:13<00:05,  4.60it/s]"
     ]
    },
    {
     "name": "stdout",
     "output_type": "stream",
     "text": [
      "174\n"
     ]
    },
    {
     "name": "stderr",
     "output_type": "stream",
     "text": [
      " 79%|███████████████▊    | 80/101 [00:14<00:04,  4.80it/s]"
     ]
    },
    {
     "name": "stdout",
     "output_type": "stream",
     "text": [
      "181\n"
     ]
    },
    {
     "name": "stderr",
     "output_type": "stream",
     "text": [
      " 88%|█████████████████▌  | 89/101 [00:16<00:01,  7.24it/s]"
     ]
    },
    {
     "name": "stdout",
     "output_type": "stream",
     "text": [
      "163\n",
      "162B\n"
     ]
    },
    {
     "name": "stderr",
     "output_type": "stream",
     "text": [
      " 93%|██████████████████▌ | 94/101 [00:17<00:00,  7.29it/s]"
     ]
    },
    {
     "name": "stdout",
     "output_type": "stream",
     "text": [
      "177\n"
     ]
    },
    {
     "name": "stderr",
     "output_type": "stream",
     "text": [
      " 98%|███████████████████▌| 99/101 [00:17<00:00,  8.77it/s]"
     ]
    },
    {
     "name": "stdout",
     "output_type": "stream",
     "text": [
      "179\n",
      "162A\n"
     ]
    },
    {
     "name": "stderr",
     "output_type": "stream",
     "text": [
      "100%|███████████████████| 101/101 [00:17<00:00,  5.64it/s]\n",
      "100%|█████████████████████| 19/19 [00:04<00:00,  4.47it/s]\n"
     ]
    }
   ],
   "source": [
    "train_images = []\n",
    "train_labels = []\n",
    "val_images = []\n",
    "val_labels = []\n",
    "\n",
    "\n",
    "image_transform = T.Compose([\n",
    "    T.Resize((512, 512), interpolation=T.InterpolationMode.BILINEAR),  \n",
    "    T.Normalize(mean=[0.5], std=[0.5]),  \n",
    "])\n",
    "\n",
    "def fill_arr(img_dir, img_bucket, mask_bucket):\n",
    "    for jpg_name in tqdm(os.listdir(img_dir)): \n",
    "        entry_name = jpg_name.split('.')[0]\n",
    "        img_filename = entry_name + '.dcm'\n",
    "\n",
    "        # df['Clinical Signs of CTS'].unique()\n",
    "        ctscore = test_df.loc[df['Number'] == entry_name, 'CTS-6 Score'].values\n",
    "        if len(ctscore) == 0:\n",
    "            print(f\"{entry_name}\")\n",
    "            continue\n",
    "        regression_tensor = torch.tensor(ctscore[0], dtype=torch.float32) #torch.tensor([1 if clinical_signs[0] == 'Y' else 0], dtype=torch.uint8)\n",
    "        \n",
    "        # Load DICOM image\n",
    "        img = load_dicom(os.path.join(dicom_dir, img_filename))\n",
    "\n",
    "        # Get bounding box from YOLO\n",
    "        result = model(img, save=False, verbose=False)\n",
    "        box = result[0].boxes\n",
    "        \n",
    "        if len(box.xyxy.tolist()) == 0:\n",
    "            continue  \n",
    "        mask_bucket.append(regression_tensor)\n",
    "\n",
    "        x1, y1, x2, y2 = map(int, box.xyxy.tolist()[0])\n",
    "        img_slice = img[y1:y2, x1:x2, 0]  # Crop the region\n",
    "\n",
    "\n",
    "        img_tensor = torch.from_numpy(img_slice).float()  # Convert to float\n",
    "\n",
    "\n",
    "        img_tensor = img_tensor / 255.0  \n",
    "\n",
    "\n",
    "        if img_tensor.dim() == 2:\n",
    "            img_tensor = img_tensor.unsqueeze(0).unsqueeze(0)  # Convert (H, W) → (1, H, W)\n",
    "\n",
    "\n",
    "        img_tensor = image_transform(img_tensor)  \n",
    "        \n",
    "\n",
    "        img_tensor = img_tensor.to(device)\n",
    "\n",
    "\n",
    "        with torch.no_grad():\n",
    "            mask_gpu = unet_model(img_tensor)  \n",
    "        \n",
    "\n",
    "        img_resized = img_tensor.squeeze().cpu().detach().numpy()  \n",
    "        mask = mask_gpu.squeeze().cpu().detach().numpy()  \n",
    "\n",
    "\n",
    "        img_2channel = np.stack((img_resized, mask), axis=0)\n",
    "        img_bucket.append(img_2channel)\n",
    "\n",
    "        \n",
    "\n",
    "fill_arr(image_train_dir, train_images, train_labels)\n",
    "fill_arr(image_val_dir, val_images, val_labels)"
   ]
  },
  {
   "cell_type": "code",
   "execution_count": 28,
   "id": "c43937b9-30f2-4381-add4-1e0fb7dfc896",
   "metadata": {},
   "outputs": [],
   "source": [
    "from Utilities.dataloaders import RegressionDataset\n",
    "# Augmentations for classification\n",
    "transform = T.Compose([\n",
    "    T.RandomHorizontalFlip(p=0.5),\n",
    "    T.RandomRotation(degrees=10),\n",
    "    # T.ColorJitter(brightness=0.2, contrast=0.2),\n",
    "    T.GaussianBlur(kernel_size=3),\n",
    "])\n",
    "\n",
    "# Creating Dataset\n",
    "train_dataset = RegressionDataset(train_images, train_labels, transform=transform)\n",
    "val_dataset = RegressionDataset(val_images, val_labels, transform=None)  # No augmentation for validation\n",
    "\n",
    "# Creating DataLoaders\n",
    "train_loader = DataLoader(train_dataset, batch_size=32, shuffle=True, num_workers=2)\n",
    "val_loader = DataLoader(val_dataset, batch_size=32, shuffle=False, num_workers=2)"
   ]
  },
  {
   "cell_type": "code",
   "execution_count": 29,
   "id": "4ac3970f-632f-4362-9c7e-a05b4703a1ce",
   "metadata": {},
   "outputs": [
    {
     "name": "stdout",
     "output_type": "stream",
     "text": [
      "torch.Size([32, 2, 512, 512]) torch.Size([32, 1])\n"
     ]
    }
   ],
   "source": [
    "for image, label in train_loader:\n",
    "    print(image.shape, label.shape)\n",
    "    break"
   ]
  },
  {
   "cell_type": "code",
   "execution_count": 53,
   "id": "1b6d562d-1448-472c-9933-f65a09fa8026",
   "metadata": {},
   "outputs": [
    {
     "name": "stderr",
     "output_type": "stream",
     "text": [
      "/tmp/ipykernel_962621/3847332748.py:13: FutureWarning: `torch.cuda.amp.GradScaler(args...)` is deprecated. Please use `torch.amp.GradScaler('cuda', args...)` instead.\n",
      "  scaler = torch.cuda.amp.GradScaler()\n"
     ]
    }
   ],
   "source": [
    "EPOCHS = 40\n",
    "regModel = FullModel(classHead, RegressionTail(768, 0.2)).to(device)\n",
    "for param in regModel.backbone.parameters():\n",
    "    param.requires_grad = False\n",
    "criterion = nn.MSELoss()\n",
    "\n",
    "optimizer = torch.optim.AdamW(regModel.parameters(),\n",
    "                              lr=5e-4,\n",
    "                              weight_decay=0.05)\n",
    "\n",
    "scheduler = torch.optim.lr_scheduler.ReduceLROnPlateau(optimizer, 'max', patience=2, threshold=1e-1, factor=0.7)\n",
    "\n",
    "scaler = torch.cuda.amp.GradScaler()"
   ]
  },
  {
   "cell_type": "code",
   "execution_count": 40,
   "id": "0736ef5a-9888-4ad6-84ab-4740a86f8471",
   "metadata": {},
   "outputs": [],
   "source": [
    "# class AverageMeter:\n",
    "#     \"\"\"Computes and stores the average and current value\"\"\"\n",
    "#     def __init__(self):\n",
    "#         self.reset()\n",
    "\n",
    "#     def reset(self):\n",
    "#         self.val = 0\n",
    "#         self.avg = 0\n",
    "#         self.sum = 0\n",
    "#         self.count = 0\n",
    "\n",
    "#     def update(self, val, n=1):\n",
    "#         self.val = val\n",
    "#         self.sum += val * n\n",
    "#         self.count += n\n",
    "#         self.avg = self.sum / self.count\n",
    "from Utilities.utilit"
   ]
  },
  {
   "cell_type": "code",
   "execution_count": 44,
   "id": "b63a2294-0b84-42f1-bd4a-9b8fccc5106f",
   "metadata": {},
   "outputs": [],
   "source": [
    "def train_loop(dtl, model, criterion, optimizer, scaler):\n",
    "    model.train()\n",
    "\n",
    "    loss_m = AverageMeter()\n",
    "    mae_m = AverageMeter()\n",
    "\n",
    "    r2_metric = R2Score()\n",
    "\n",
    "    batch_bar = tqdm(total=len(dtl), dynamic_ncols=True, leave=False, position=0, desc='Train')\n",
    "\n",
    "    for imgs_batch, targets_batch in dtl:\n",
    "        imgs_batch = imgs_batch.to(device)\n",
    "        targets_batch = targets_batch.to(device)\n",
    "\n",
    "        optimizer.zero_grad()\n",
    "\n",
    "        with torch.cuda.amp.autocast():\n",
    "            predictions = model(imgs_batch)\n",
    "            loss = criterion(predictions, targets_batch)\n",
    "\n",
    "        scaler.scale(loss).backward()\n",
    "        scaler.step(optimizer)\n",
    "        scaler.update()\n",
    "        # scheduler.step()\n",
    "\n",
    "        mae = torch.mean(torch.abs(predictions - targets_batch)).item()\n",
    "        mae_m.update(mae)\n",
    "        loss_m.update(loss.item())\n",
    "\n",
    "        r2_metric.update(predictions.cpu(), targets_batch.cpu())\n",
    "\n",
    "        # Update progress bar\n",
    "        batch_bar.set_postfix(\n",
    "            mse=\"{:.04f}\".format(loss_m.avg),\n",
    "            mae=\"{:.04f}\".format(mae_m.avg),\n",
    "            r2=\"{:.04f}\".format(r2_metric.compute().item()),\n",
    "            lr=\"{:.04f}\".format(float(optimizer.param_groups[0]['lr']))\n",
    "        )\n",
    "        batch_bar.update()\n",
    "\n",
    "    batch_bar.close()\n",
    "\n",
    "    print(\n",
    "        \"Train MSE: {:.04f}\\t MAE: {:.04f}\\t R2: {:.04f}\".format(\n",
    "            loss_m.avg, mae_m.avg, r2_metric.compute().item()\n",
    "        )\n",
    "    )\n",
    "\n",
    "    return loss_m.avg, mae_m.avg, r2_metric.compute().item()\n"
   ]
  },
  {
   "cell_type": "code",
   "execution_count": 45,
   "id": "f841acbd-9a21-4b93-a44e-f63ac8c25395",
   "metadata": {},
   "outputs": [],
   "source": [
    "def val_loop(dtl, model):\n",
    "    model.train()\n",
    "\n",
    "    loss_m = AverageMeter()\n",
    "    mae_m = AverageMeter()\n",
    "\n",
    "    r2_metric = R2Score()\n",
    "\n",
    "    batch_bar = tqdm(total=len(dtl), dynamic_ncols=True, leave=False, position=0, desc='Train')\n",
    "\n",
    "    for imgs_batch, targets_batch in dtl:\n",
    "        imgs_batch = imgs_batch.to(device)\n",
    "        targets_batch = targets_batch.to(device)\n",
    "\n",
    "        optimizer.zero_grad()\n",
    "\n",
    "        with torch.inference_mode():\n",
    "            predictions = model(imgs_batch)\n",
    "            loss = criterion(predictions, targets_batch)\n",
    "\n",
    "        mae = torch.mean(torch.abs(predictions - targets_batch)).item()\n",
    "        mae_m.update(mae)\n",
    "        loss_m.update(loss.item())\n",
    "\n",
    "        r2_metric.update(predictions.cpu(), targets_batch.cpu())\n",
    "\n",
    "        # Update progress bar\n",
    "        batch_bar.set_postfix(\n",
    "            mse=\"{:.04f}\".format(loss_m.avg),\n",
    "            mae=\"{:.04f}\".format(mae_m.avg),\n",
    "            r2=\"{:.04f}\".format(r2_metric.compute().item()),\n",
    "            lr=\"{:.04f}\".format(float(optimizer.param_groups[0]['lr']))\n",
    "        )\n",
    "        batch_bar.update()\n",
    "\n",
    "    batch_bar.close()\n",
    "\n",
    "    print(\n",
    "        \"VAL MSE: {:.04f}\\t MAE: {:.04f}\\t R2: {:.04f}\".format(\n",
    "            loss_m.avg, mae_m.avg, r2_metric.compute().item()\n",
    "        )\n",
    "    )\n",
    "\n",
    "    return loss_m.avg, mae_m.avg, r2_metric.compute().item()\n"
   ]
  },
  {
   "cell_type": "code",
   "execution_count": 38,
   "id": "cc269f4c-9fc5-492f-9071-4f93f1f379e3",
   "metadata": {},
   "outputs": [],
   "source": [
    "reg_root = 'reg_runs'\n",
    "os.makedirs(reg_root, exist_ok=True)"
   ]
  },
  {
   "cell_type": "code",
   "execution_count": 54,
   "id": "88f18167-14a8-46f9-a4bd-523717ad8d36",
   "metadata": {},
   "outputs": [
    {
     "name": "stdout",
     "output_type": "stream",
     "text": [
      "Epoch 1 / 40\n"
     ]
    },
    {
     "name": "stderr",
     "output_type": "stream",
     "text": [
      "/tmp/ipykernel_962621/2472554104.py:17: FutureWarning: `torch.cuda.amp.autocast(args...)` is deprecated. Please use `torch.amp.autocast('cuda', args...)` instead.\n",
      "  with torch.cuda.amp.autocast():\n",
      "                                                          "
     ]
    },
    {
     "name": "stdout",
     "output_type": "stream",
     "text": [
      "Train MSE: 187.6809\t MAE: 10.9450\t R2: -1.7940\n"
     ]
    },
    {
     "name": "stderr",
     "output_type": "stream",
     "text": [
      "                                                          "
     ]
    },
    {
     "name": "stdout",
     "output_type": "stream",
     "text": [
      "VAL MSE: 108.0128\t MAE: 6.4118\t R2: -0.6023\n",
      "Epoch 2 / 40\n"
     ]
    },
    {
     "name": "stderr",
     "output_type": "stream",
     "text": [
      "                                                          "
     ]
    },
    {
     "name": "stdout",
     "output_type": "stream",
     "text": [
      "Train MSE: 181.4854\t MAE: 10.8812\t R2: -1.7659\n"
     ]
    },
    {
     "name": "stderr",
     "output_type": "stream",
     "text": [
      "                                                          "
     ]
    },
    {
     "name": "stdout",
     "output_type": "stream",
     "text": [
      "VAL MSE: 106.2535\t MAE: 6.4265\t R2: -0.5762\n",
      "Epoch 3 / 40\n"
     ]
    },
    {
     "name": "stderr",
     "output_type": "stream",
     "text": [
      "                                                          "
     ]
    },
    {
     "name": "stdout",
     "output_type": "stream",
     "text": [
      "Train MSE: 185.6568\t MAE: 11.1320\t R2: -1.7267\n"
     ]
    },
    {
     "name": "stderr",
     "output_type": "stream",
     "text": [
      "                                                          "
     ]
    },
    {
     "name": "stdout",
     "output_type": "stream",
     "text": [
      "VAL MSE: 95.1865\t MAE: 6.2455\t R2: -0.4120\n",
      "Epoch 4 / 40\n"
     ]
    },
    {
     "name": "stderr",
     "output_type": "stream",
     "text": [
      "                                                          "
     ]
    },
    {
     "name": "stdout",
     "output_type": "stream",
     "text": [
      "Train MSE: 174.2950\t MAE: 10.7466\t R2: -1.6271\n"
     ]
    },
    {
     "name": "stderr",
     "output_type": "stream",
     "text": [
      "                                                          "
     ]
    },
    {
     "name": "stdout",
     "output_type": "stream",
     "text": [
      "VAL MSE: 89.7956\t MAE: 6.2349\t R2: -0.3320\n",
      "Epoch 5 / 40\n"
     ]
    },
    {
     "name": "stderr",
     "output_type": "stream",
     "text": [
      "                                                          "
     ]
    },
    {
     "name": "stdout",
     "output_type": "stream",
     "text": [
      "Train MSE: 163.3023\t MAE: 10.5259\t R2: -1.5894\n"
     ]
    },
    {
     "name": "stderr",
     "output_type": "stream",
     "text": [
      "                                                          "
     ]
    },
    {
     "name": "stdout",
     "output_type": "stream",
     "text": [
      "VAL MSE: 88.3421\t MAE: 6.1800\t R2: -0.3105\n",
      "Epoch 6 / 40\n"
     ]
    },
    {
     "name": "stderr",
     "output_type": "stream",
     "text": [
      "                                                          "
     ]
    },
    {
     "name": "stdout",
     "output_type": "stream",
     "text": [
      "Train MSE: 168.2740\t MAE: 10.7822\t R2: -1.5347\n"
     ]
    },
    {
     "name": "stderr",
     "output_type": "stream",
     "text": [
      "                                                          "
     ]
    },
    {
     "name": "stdout",
     "output_type": "stream",
     "text": [
      "VAL MSE: 88.8651\t MAE: 6.2010\t R2: -0.3182\n",
      "Epoch 7 / 40\n"
     ]
    },
    {
     "name": "stderr",
     "output_type": "stream",
     "text": [
      "                                                          "
     ]
    },
    {
     "name": "stdout",
     "output_type": "stream",
     "text": [
      "Train MSE: 154.0096\t MAE: 9.9668\t R2: -1.5209\n"
     ]
    },
    {
     "name": "stderr",
     "output_type": "stream",
     "text": [
      "                                                          "
     ]
    },
    {
     "name": "stdout",
     "output_type": "stream",
     "text": [
      "VAL MSE: 83.6919\t MAE: 5.9136\t R2: -0.2415\n",
      "Epoch 8 / 40\n"
     ]
    },
    {
     "name": "stderr",
     "output_type": "stream",
     "text": [
      "                                                          "
     ]
    },
    {
     "name": "stdout",
     "output_type": "stream",
     "text": [
      "Train MSE: 162.7269\t MAE: 10.4519\t R2: -1.4878\n"
     ]
    },
    {
     "name": "stderr",
     "output_type": "stream",
     "text": [
      "                                                          "
     ]
    },
    {
     "name": "stdout",
     "output_type": "stream",
     "text": [
      "VAL MSE: 84.7430\t MAE: 6.0526\t R2: -0.2571\n",
      "Epoch 9 / 40\n"
     ]
    },
    {
     "name": "stderr",
     "output_type": "stream",
     "text": [
      "                                                          "
     ]
    },
    {
     "name": "stdout",
     "output_type": "stream",
     "text": [
      "Train MSE: 178.3862\t MAE: 11.1349\t R2: -1.4664\n"
     ]
    },
    {
     "name": "stderr",
     "output_type": "stream",
     "text": [
      "                                                          "
     ]
    },
    {
     "name": "stdout",
     "output_type": "stream",
     "text": [
      "VAL MSE: 83.9310\t MAE: 5.9702\t R2: -0.2450\n",
      "Epoch 10 / 40\n"
     ]
    },
    {
     "name": "stderr",
     "output_type": "stream",
     "text": [
      "                                                          "
     ]
    },
    {
     "name": "stdout",
     "output_type": "stream",
     "text": [
      "Train MSE: 166.1583\t MAE: 10.6018\t R2: -1.4198\n"
     ]
    },
    {
     "name": "stderr",
     "output_type": "stream",
     "text": [
      "                                                          "
     ]
    },
    {
     "name": "stdout",
     "output_type": "stream",
     "text": [
      "VAL MSE: 81.8208\t MAE: 5.8743\t R2: -0.2137\n",
      "Epoch 11 / 40\n"
     ]
    },
    {
     "name": "stderr",
     "output_type": "stream",
     "text": [
      "                                                          "
     ]
    },
    {
     "name": "stdout",
     "output_type": "stream",
     "text": [
      "Train MSE: 170.2427\t MAE: 10.8301\t R2: -1.4151\n"
     ]
    },
    {
     "name": "stderr",
     "output_type": "stream",
     "text": [
      "                                                          "
     ]
    },
    {
     "name": "stdout",
     "output_type": "stream",
     "text": [
      "VAL MSE: 82.7697\t MAE: 5.8851\t R2: -0.2278\n",
      "Epoch 12 / 40\n"
     ]
    },
    {
     "name": "stderr",
     "output_type": "stream",
     "text": [
      "                                                          "
     ]
    },
    {
     "name": "stdout",
     "output_type": "stream",
     "text": [
      "Train MSE: 162.1783\t MAE: 10.6149\t R2: -1.4148\n"
     ]
    },
    {
     "name": "stderr",
     "output_type": "stream",
     "text": [
      "                                                          "
     ]
    },
    {
     "name": "stdout",
     "output_type": "stream",
     "text": [
      "VAL MSE: 82.1250\t MAE: 5.9209\t R2: -0.2183\n",
      "Epoch 13 / 40\n"
     ]
    },
    {
     "name": "stderr",
     "output_type": "stream",
     "text": [
      "                                                          "
     ]
    },
    {
     "name": "stdout",
     "output_type": "stream",
     "text": [
      "Train MSE: 156.6872\t MAE: 10.1434\t R2: -1.3812\n"
     ]
    },
    {
     "name": "stderr",
     "output_type": "stream",
     "text": [
      "                                                          "
     ]
    },
    {
     "name": "stdout",
     "output_type": "stream",
     "text": [
      "VAL MSE: 80.2188\t MAE: 5.7665\t R2: -0.1900\n",
      "Epoch 14 / 40\n"
     ]
    },
    {
     "name": "stderr",
     "output_type": "stream",
     "text": [
      "                                                          "
     ]
    },
    {
     "name": "stdout",
     "output_type": "stream",
     "text": [
      "Train MSE: 151.2793\t MAE: 9.9202\t R2: -1.3594\n"
     ]
    },
    {
     "name": "stderr",
     "output_type": "stream",
     "text": [
      "                                                          "
     ]
    },
    {
     "name": "stdout",
     "output_type": "stream",
     "text": [
      "VAL MSE: 80.9395\t MAE: 5.7661\t R2: -0.2007\n",
      "Epoch 15 / 40\n"
     ]
    },
    {
     "name": "stderr",
     "output_type": "stream",
     "text": [
      "                                                          "
     ]
    },
    {
     "name": "stdout",
     "output_type": "stream",
     "text": [
      "Train MSE: 153.7921\t MAE: 10.0293\t R2: -1.3581\n"
     ]
    },
    {
     "name": "stderr",
     "output_type": "stream",
     "text": [
      "                                                          "
     ]
    },
    {
     "name": "stdout",
     "output_type": "stream",
     "text": [
      "VAL MSE: 78.6180\t MAE: 5.5966\t R2: -0.1662\n",
      "Epoch 16 / 40\n"
     ]
    },
    {
     "name": "stderr",
     "output_type": "stream",
     "text": [
      "                                                          "
     ]
    },
    {
     "name": "stdout",
     "output_type": "stream",
     "text": [
      "Train MSE: 165.6679\t MAE: 10.5161\t R2: -1.3778\n"
     ]
    },
    {
     "name": "stderr",
     "output_type": "stream",
     "text": [
      "                                                          "
     ]
    },
    {
     "name": "stdout",
     "output_type": "stream",
     "text": [
      "VAL MSE: 78.7469\t MAE: 5.7678\t R2: -0.1681\n",
      "Epoch 17 / 40\n"
     ]
    },
    {
     "name": "stderr",
     "output_type": "stream",
     "text": [
      "                                                          "
     ]
    },
    {
     "name": "stdout",
     "output_type": "stream",
     "text": [
      "Train MSE: 167.0526\t MAE: 10.7168\t R2: -1.3554\n"
     ]
    },
    {
     "name": "stderr",
     "output_type": "stream",
     "text": [
      "                                                          "
     ]
    },
    {
     "name": "stdout",
     "output_type": "stream",
     "text": [
      "VAL MSE: 78.9603\t MAE: 5.7799\t R2: -0.1713\n",
      "Epoch 18 / 40\n"
     ]
    },
    {
     "name": "stderr",
     "output_type": "stream",
     "text": [
      "                                                          "
     ]
    },
    {
     "name": "stdout",
     "output_type": "stream",
     "text": [
      "Train MSE: 154.4975\t MAE: 10.2153\t R2: -1.3467\n"
     ]
    },
    {
     "name": "stderr",
     "output_type": "stream",
     "text": [
      "                                                          "
     ]
    },
    {
     "name": "stdout",
     "output_type": "stream",
     "text": [
      "VAL MSE: 79.6718\t MAE: 5.7695\t R2: -0.1819\n",
      "Epoch 19 / 40\n"
     ]
    },
    {
     "name": "stderr",
     "output_type": "stream",
     "text": [
      "                                                          "
     ]
    },
    {
     "name": "stdout",
     "output_type": "stream",
     "text": [
      "Train MSE: 156.2131\t MAE: 10.1504\t R2: -1.3206\n"
     ]
    },
    {
     "name": "stderr",
     "output_type": "stream",
     "text": [
      "                                                          "
     ]
    },
    {
     "name": "stdout",
     "output_type": "stream",
     "text": [
      "VAL MSE: 78.3605\t MAE: 5.6972\t R2: -0.1624\n",
      "Epoch 20 / 40\n"
     ]
    },
    {
     "name": "stderr",
     "output_type": "stream",
     "text": [
      "                                                          "
     ]
    },
    {
     "name": "stdout",
     "output_type": "stream",
     "text": [
      "Train MSE: 177.1752\t MAE: 10.9180\t R2: -1.3163\n"
     ]
    },
    {
     "name": "stderr",
     "output_type": "stream",
     "text": [
      "                                                          "
     ]
    },
    {
     "name": "stdout",
     "output_type": "stream",
     "text": [
      "VAL MSE: 79.9935\t MAE: 5.7492\t R2: -0.1866\n",
      "Epoch 21 / 40\n"
     ]
    },
    {
     "name": "stderr",
     "output_type": "stream",
     "text": [
      "                                                          "
     ]
    },
    {
     "name": "stdout",
     "output_type": "stream",
     "text": [
      "Train MSE: 145.6001\t MAE: 9.6714\t R2: -1.3237\n"
     ]
    },
    {
     "name": "stderr",
     "output_type": "stream",
     "text": [
      "                                                          "
     ]
    },
    {
     "name": "stdout",
     "output_type": "stream",
     "text": [
      "VAL MSE: 78.0028\t MAE: 5.6401\t R2: -0.1571\n",
      "Epoch 22 / 40\n"
     ]
    },
    {
     "name": "stderr",
     "output_type": "stream",
     "text": [
      "                                                          "
     ]
    },
    {
     "name": "stdout",
     "output_type": "stream",
     "text": [
      "Train MSE: 146.4737\t MAE: 9.6352\t R2: -1.3106\n"
     ]
    },
    {
     "name": "stderr",
     "output_type": "stream",
     "text": [
      "                                                          "
     ]
    },
    {
     "name": "stdout",
     "output_type": "stream",
     "text": [
      "VAL MSE: 77.9710\t MAE: 5.6809\t R2: -0.1566\n",
      "Epoch 23 / 40\n"
     ]
    },
    {
     "name": "stderr",
     "output_type": "stream",
     "text": [
      "                                                          "
     ]
    },
    {
     "name": "stdout",
     "output_type": "stream",
     "text": [
      "Train MSE: 157.7135\t MAE: 10.2776\t R2: -1.2989\n"
     ]
    },
    {
     "name": "stderr",
     "output_type": "stream",
     "text": [
      "                                                          "
     ]
    },
    {
     "name": "stdout",
     "output_type": "stream",
     "text": [
      "VAL MSE: 79.7640\t MAE: 5.7447\t R2: -0.1832\n",
      "Epoch 24 / 40\n"
     ]
    },
    {
     "name": "stderr",
     "output_type": "stream",
     "text": [
      "                                                          "
     ]
    },
    {
     "name": "stdout",
     "output_type": "stream",
     "text": [
      "Train MSE: 156.4790\t MAE: 10.2201\t R2: -1.2874\n"
     ]
    },
    {
     "name": "stderr",
     "output_type": "stream",
     "text": [
      "                                                          "
     ]
    },
    {
     "name": "stdout",
     "output_type": "stream",
     "text": [
      "VAL MSE: 79.3373\t MAE: 5.7201\t R2: -0.1769\n",
      "Epoch 25 / 40\n"
     ]
    },
    {
     "name": "stderr",
     "output_type": "stream",
     "text": [
      "                                                          "
     ]
    },
    {
     "name": "stdout",
     "output_type": "stream",
     "text": [
      "Train MSE: 160.2189\t MAE: 10.4162\t R2: -1.3158\n"
     ]
    },
    {
     "name": "stderr",
     "output_type": "stream",
     "text": [
      "                                                          "
     ]
    },
    {
     "name": "stdout",
     "output_type": "stream",
     "text": [
      "VAL MSE: 78.1597\t MAE: 5.7773\t R2: -0.1594\n",
      "Epoch 26 / 40\n"
     ]
    },
    {
     "name": "stderr",
     "output_type": "stream",
     "text": [
      "                                                          "
     ]
    },
    {
     "name": "stdout",
     "output_type": "stream",
     "text": [
      "Train MSE: 160.2844\t MAE: 10.2536\t R2: -1.3180\n"
     ]
    },
    {
     "name": "stderr",
     "output_type": "stream",
     "text": [
      "                                                          "
     ]
    },
    {
     "name": "stdout",
     "output_type": "stream",
     "text": [
      "VAL MSE: 78.2537\t MAE: 5.5976\t R2: -0.1608\n",
      "Epoch 27 / 40\n"
     ]
    },
    {
     "name": "stderr",
     "output_type": "stream",
     "text": [
      "                                                          "
     ]
    },
    {
     "name": "stdout",
     "output_type": "stream",
     "text": [
      "Train MSE: 153.4155\t MAE: 10.2493\t R2: -1.2936\n"
     ]
    },
    {
     "name": "stderr",
     "output_type": "stream",
     "text": [
      "                                                          "
     ]
    },
    {
     "name": "stdout",
     "output_type": "stream",
     "text": [
      "VAL MSE: 77.4188\t MAE: 5.6695\t R2: -0.1484\n",
      "Epoch 28 / 40\n"
     ]
    },
    {
     "name": "stderr",
     "output_type": "stream",
     "text": [
      "                                                          "
     ]
    },
    {
     "name": "stdout",
     "output_type": "stream",
     "text": [
      "Train MSE: 150.7230\t MAE: 9.9167\t R2: -1.2865\n"
     ]
    },
    {
     "name": "stderr",
     "output_type": "stream",
     "text": [
      "                                                          "
     ]
    },
    {
     "name": "stdout",
     "output_type": "stream",
     "text": [
      "VAL MSE: 77.3319\t MAE: 5.6476\t R2: -0.1472\n",
      "Epoch 29 / 40\n"
     ]
    },
    {
     "name": "stderr",
     "output_type": "stream",
     "text": [
      "                                                          "
     ]
    },
    {
     "name": "stdout",
     "output_type": "stream",
     "text": [
      "Train MSE: 147.0515\t MAE: 9.7682\t R2: -1.3003\n"
     ]
    },
    {
     "name": "stderr",
     "output_type": "stream",
     "text": [
      "                                                          "
     ]
    },
    {
     "name": "stdout",
     "output_type": "stream",
     "text": [
      "VAL MSE: 77.1375\t MAE: 5.5910\t R2: -0.1443\n",
      "Epoch 30 / 40\n"
     ]
    },
    {
     "name": "stderr",
     "output_type": "stream",
     "text": [
      "                                                          "
     ]
    },
    {
     "name": "stdout",
     "output_type": "stream",
     "text": [
      "Train MSE: 161.6530\t MAE: 10.5132\t R2: -1.3036\n"
     ]
    },
    {
     "name": "stderr",
     "output_type": "stream",
     "text": [
      "                                                          "
     ]
    },
    {
     "name": "stdout",
     "output_type": "stream",
     "text": [
      "VAL MSE: 79.6981\t MAE: 5.7392\t R2: -0.1823\n",
      "Epoch 31 / 40\n"
     ]
    },
    {
     "name": "stderr",
     "output_type": "stream",
     "text": [
      "                                                          "
     ]
    },
    {
     "name": "stdout",
     "output_type": "stream",
     "text": [
      "Train MSE: 151.6233\t MAE: 9.8452\t R2: -1.3068\n"
     ]
    },
    {
     "name": "stderr",
     "output_type": "stream",
     "text": [
      "                                                          "
     ]
    },
    {
     "name": "stdout",
     "output_type": "stream",
     "text": [
      "VAL MSE: 77.2350\t MAE: 5.7033\t R2: -0.1457\n",
      "Epoch 32 / 40\n"
     ]
    },
    {
     "name": "stderr",
     "output_type": "stream",
     "text": [
      "                                                          "
     ]
    },
    {
     "name": "stdout",
     "output_type": "stream",
     "text": [
      "Train MSE: 150.7422\t MAE: 9.9636\t R2: -1.2700\n"
     ]
    },
    {
     "name": "stderr",
     "output_type": "stream",
     "text": [
      "                                                          "
     ]
    },
    {
     "name": "stdout",
     "output_type": "stream",
     "text": [
      "VAL MSE: 75.9208\t MAE: 5.6097\t R2: -0.1262\n",
      "Epoch 33 / 40\n"
     ]
    },
    {
     "name": "stderr",
     "output_type": "stream",
     "text": [
      "                                                          "
     ]
    },
    {
     "name": "stdout",
     "output_type": "stream",
     "text": [
      "Train MSE: 144.5114\t MAE: 9.6372\t R2: -1.2853\n"
     ]
    },
    {
     "name": "stderr",
     "output_type": "stream",
     "text": [
      "                                                          "
     ]
    },
    {
     "name": "stdout",
     "output_type": "stream",
     "text": [
      "VAL MSE: 78.2875\t MAE: 5.7321\t R2: -0.1613\n",
      "Epoch 34 / 40\n"
     ]
    },
    {
     "name": "stderr",
     "output_type": "stream",
     "text": [
      "                                                          "
     ]
    },
    {
     "name": "stdout",
     "output_type": "stream",
     "text": [
      "Train MSE: 158.2074\t MAE: 10.1731\t R2: -1.2900\n"
     ]
    },
    {
     "name": "stderr",
     "output_type": "stream",
     "text": [
      "                                                          "
     ]
    },
    {
     "name": "stdout",
     "output_type": "stream",
     "text": [
      "VAL MSE: 78.4602\t MAE: 5.7442\t R2: -0.1639\n",
      "Epoch 35 / 40\n"
     ]
    },
    {
     "name": "stderr",
     "output_type": "stream",
     "text": [
      "                                                          "
     ]
    },
    {
     "name": "stdout",
     "output_type": "stream",
     "text": [
      "Train MSE: 160.3280\t MAE: 10.3187\t R2: -1.2776\n"
     ]
    },
    {
     "name": "stderr",
     "output_type": "stream",
     "text": [
      "                                                          "
     ]
    },
    {
     "name": "stdout",
     "output_type": "stream",
     "text": [
      "VAL MSE: 78.8927\t MAE: 5.7410\t R2: -0.1703\n",
      "Epoch 36 / 40\n"
     ]
    },
    {
     "name": "stderr",
     "output_type": "stream",
     "text": [
      "                                                          "
     ]
    },
    {
     "name": "stdout",
     "output_type": "stream",
     "text": [
      "Train MSE: 155.8824\t MAE: 9.8864\t R2: -1.2965\n"
     ]
    },
    {
     "name": "stderr",
     "output_type": "stream",
     "text": [
      "                                                          "
     ]
    },
    {
     "name": "stdout",
     "output_type": "stream",
     "text": [
      "VAL MSE: 78.7660\t MAE: 5.7279\t R2: -0.1684\n",
      "Epoch 37 / 40\n"
     ]
    },
    {
     "name": "stderr",
     "output_type": "stream",
     "text": [
      "                                                          "
     ]
    },
    {
     "name": "stdout",
     "output_type": "stream",
     "text": [
      "Train MSE: 156.8187\t MAE: 10.0535\t R2: -1.3005\n"
     ]
    },
    {
     "name": "stderr",
     "output_type": "stream",
     "text": [
      "                                                          "
     ]
    },
    {
     "name": "stdout",
     "output_type": "stream",
     "text": [
      "VAL MSE: 78.7227\t MAE: 5.6815\t R2: -0.1678\n",
      "Epoch 38 / 40\n"
     ]
    },
    {
     "name": "stderr",
     "output_type": "stream",
     "text": [
      "                                                          "
     ]
    },
    {
     "name": "stdout",
     "output_type": "stream",
     "text": [
      "Train MSE: 153.1983\t MAE: 10.0283\t R2: -1.2843\n"
     ]
    },
    {
     "name": "stderr",
     "output_type": "stream",
     "text": [
      "                                                          "
     ]
    },
    {
     "name": "stdout",
     "output_type": "stream",
     "text": [
      "VAL MSE: 77.6818\t MAE: 5.6390\t R2: -0.1523\n",
      "Epoch 39 / 40\n"
     ]
    },
    {
     "name": "stderr",
     "output_type": "stream",
     "text": [
      "                                                          "
     ]
    },
    {
     "name": "stdout",
     "output_type": "stream",
     "text": [
      "Train MSE: 153.9826\t MAE: 10.0467\t R2: -1.2787\n"
     ]
    },
    {
     "name": "stderr",
     "output_type": "stream",
     "text": [
      "                                                          "
     ]
    },
    {
     "name": "stdout",
     "output_type": "stream",
     "text": [
      "VAL MSE: 76.8130\t MAE: 5.6737\t R2: -0.1395\n",
      "Epoch 40 / 40\n"
     ]
    },
    {
     "name": "stderr",
     "output_type": "stream",
     "text": [
      "                                                          "
     ]
    },
    {
     "name": "stdout",
     "output_type": "stream",
     "text": [
      "Train MSE: 156.3489\t MAE: 10.0650\t R2: -1.2844\n"
     ]
    },
    {
     "name": "stderr",
     "output_type": "stream",
     "text": [
      "                                                          "
     ]
    },
    {
     "name": "stdout",
     "output_type": "stream",
     "text": [
      "VAL MSE: 77.3059\t MAE: 5.6009\t R2: -0.1468\n"
     ]
    }
   ],
   "source": [
    "best_mse = 10000000\n",
    "best_reg_epoch = 0\n",
    "for epoch in range(EPOCHS):\n",
    "  print(f'Epoch {epoch + 1} / {EPOCHS}')\n",
    "  train_metrics = train_loop(train_loader, regModel, criterion, optimizer, scaler)\n",
    "  val_metrics = val_loop(val_loader, regModel)\n",
    "  scheduler.step(val_metrics[1])\n",
    "  if val_metrics[0] < best_mse:\n",
    "    best_mse = val_metrics[0]\n",
    "    best_reg_epoch = epoch\n",
    "  save_model(regModel, os.path.join(reg_root, f\"epoch_{epoch+1}.pth\"))"
   ]
  }
 ],
 "metadata": {
  "kernelspec": {
   "display_name": "Python 3 (ipykernel)",
   "language": "python",
   "name": "python3"
  },
  "language_info": {
   "codemirror_mode": {
    "name": "ipython",
    "version": 3
   },
   "file_extension": ".py",
   "mimetype": "text/x-python",
   "name": "python",
   "nbconvert_exporter": "python",
   "pygments_lexer": "ipython3",
   "version": "3.10.12"
  }
 },
 "nbformat": 4,
 "nbformat_minor": 5
}
