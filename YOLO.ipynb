{
 "cells": [
  {
   "cell_type": "code",
   "execution_count": 1,
   "id": "2268036f-ffea-486b-9df4-e6de9e251452",
   "metadata": {},
   "outputs": [],
   "source": [
    "from ultralytics import YOLO\n",
    "import SimpleITK as sitk\n",
    "from PIL import Image\n",
    "import random\n",
    "import os\n",
    "import pydicom\n",
    "import numpy as np"
   ]
  },
  {
   "cell_type": "code",
   "execution_count": 11,
   "id": "5533cd41-52c1-4243-b6b6-439495fb0767",
   "metadata": {},
   "outputs": [],
   "source": [
    "restructured_root = 'data_yolo'\n",
    "image_dir = os.path.join(restructured_root, 'images')\n",
    "image_train_dir = os.path.join(image_dir, 'train')\n",
    "image_val_dir = os.path.join(image_dir, 'val')\n",
    "image_test_dir = os.path.join(image_dir, 'test')\n",
    "label_dir = os.path.join(restructured_root, 'labels')\n",
    "label_train_dir = os.path.join(label_dir, 'train')\n",
    "label_val_dir = os.path.join(label_dir, 'val')\n",
    "\n",
    "## make these directories\n",
    "os.makedirs(restructured_root, exist_ok=True)\n",
    "os.makedirs(image_dir, exist_ok=True)\n",
    "os.makedirs(image_train_dir, exist_ok=True)\n",
    "os.makedirs(image_val_dir, exist_ok=True)\n",
    "os.makedirs(image_test_dir, exist_ok=True)\n",
    "os.makedirs(label_dir, exist_ok=True)\n",
    "os.makedirs(label_train_dir, exist_ok=True)\n",
    "os.makedirs(label_val_dir, exist_ok=True)"
   ]
  },
  {
   "cell_type": "code",
   "execution_count": 12,
   "id": "50a32c9d-cfcc-44b4-a133-7b345e1365c5",
   "metadata": {},
   "outputs": [],
   "source": [
    "anno_dir = '/data_vault/hexai02/CarpalTunnel/Annotations'\n",
    "dicom_dir = '/data_vault/hexai02/CarpalTunnel/Images'"
   ]
  },
  {
   "cell_type": "code",
   "execution_count": 13,
   "id": "b439b6f0-ff20-48ff-86b9-3d00f666112e",
   "metadata": {},
   "outputs": [],
   "source": [
    "def load_mask(mask_path):\n",
    "    mask = sitk.ReadImage(mask_path)\n",
    "    return sitk.GetArrayFromImage(mask)[0][: 450, 200: 1300]\n",
    "\n",
    "def get_bounding_box(mask, padding=10):\n",
    "    \"\"\"\n",
    "    Compute the bounding box around the nonzero mask region with optional padding.\n",
    "    \n",
    "    Args:\n",
    "        mask (numpy array): Binary mask where nonzero pixels represent the object.\n",
    "        padding (int): Extra pixels to add around the bounding box.\n",
    "    \n",
    "    Returns:\n",
    "        (y_min, y_max, x_min, x_max): Cropped bounding box coordinates.\n",
    "    \"\"\"\n",
    "\n",
    "    coords = np.argwhere(mask > 0)  \n",
    "\n",
    "    if coords.size == 0:\n",
    "        return None  # No object found\n",
    "\n",
    "    # Get bounding box coordinates\n",
    "    y_min, x_min = coords.min(axis=0)\n",
    "    y_max, x_max = coords.max(axis=0)\n",
    "\n",
    "\n",
    "    y_min = max(y_min - padding, 0)\n",
    "    x_min = max(x_min - padding, 0)\n",
    "    y_max = min(y_max + padding, mask.shape[0])\n",
    "    x_max = min(x_max + padding, mask.shape[1])\n",
    "\n",
    "    return y_min, y_max, x_min, x_max\n",
    "\n",
    "def load_dicom(dicom_path):\n",
    "    dicom_data = pydicom.dcmread(dicom_path)\n",
    "    return dicom_data.pixel_array[: 450, 200: 1300,0]\n",
    "\n",
    "def dicom_to_jpg(image):\n",
    "    image = ((image - image.min()) / (image.max() - image.min()) * 255).astype(np.uint8)\n",
    "    img = Image.fromarray(image)  # Convert to PIL Image\n",
    "    return img.convert('L')\n",
    "\n",
    "def anno_to_yolo(anno_file, height, width):\n",
    "    mask = load_mask(anno_file)\n",
    "    ymin, ymax, xmin, xmax = get_bounding_box(mask, padding=10)\n",
    "    \n",
    "    center_x = (xmin + xmax) / (2 * width)\n",
    "    center_y = (ymin + ymax) / (2 * height)\n",
    "    width = (xmax - xmin) / width\n",
    "    height = (ymax - ymin) / height\n",
    "\n",
    "    return [center_x, center_y, width, height]"
   ]
  },
  {
   "cell_type": "code",
   "execution_count": 14,
   "id": "d80b2c74-8f84-4559-aedd-640fb52b65b3",
   "metadata": {},
   "outputs": [
    {
     "name": "stdout",
     "output_type": "stream",
     "text": [
      "/data_vault/hexai02/CarpalTunnel/Images/100.dcm\n",
      "/data_vault/hexai02/CarpalTunnel/Images/101.dcm\n",
      "/data_vault/hexai02/CarpalTunnel/Images/102.dcm\n",
      "/data_vault/hexai02/CarpalTunnel/Images/103.dcm\n",
      "/data_vault/hexai02/CarpalTunnel/Images/104.dcm\n",
      "/data_vault/hexai02/CarpalTunnel/Images/105.dcm\n",
      "/data_vault/hexai02/CarpalTunnel/Images/106.dcm\n",
      "/data_vault/hexai02/CarpalTunnel/Images/107.dcm\n",
      "/data_vault/hexai02/CarpalTunnel/Images/108.dcm\n",
      "/data_vault/hexai02/CarpalTunnel/Images/111.dcm\n",
      "/data_vault/hexai02/CarpalTunnel/Images/112.dcm\n",
      "/data_vault/hexai02/CarpalTunnel/Images/113.dcm\n",
      "/data_vault/hexai02/CarpalTunnel/Images/115.dcm\n",
      "/data_vault/hexai02/CarpalTunnel/Images/116.dcm\n",
      "/data_vault/hexai02/CarpalTunnel/Images/117.dcm\n",
      "/data_vault/hexai02/CarpalTunnel/Images/118.dcm\n",
      "/data_vault/hexai02/CarpalTunnel/Images/119.dcm\n",
      "/data_vault/hexai02/CarpalTunnel/Images/120.dcm\n",
      "/data_vault/hexai02/CarpalTunnel/Images/121.dcm\n",
      "/data_vault/hexai02/CarpalTunnel/Images/122.dcm\n",
      "/data_vault/hexai02/CarpalTunnel/Images/123.dcm\n",
      "/data_vault/hexai02/CarpalTunnel/Images/125A.dcm\n",
      "/data_vault/hexai02/CarpalTunnel/Images/125B.dcm\n",
      "/data_vault/hexai02/CarpalTunnel/Images/126.dcm\n",
      "/data_vault/hexai02/CarpalTunnel/Images/127.dcm\n",
      "/data_vault/hexai02/CarpalTunnel/Images/128.dcm\n",
      "/data_vault/hexai02/CarpalTunnel/Images/129.dcm\n",
      "/data_vault/hexai02/CarpalTunnel/Images/130.dcm\n",
      "/data_vault/hexai02/CarpalTunnel/Images/131.dcm\n",
      "/data_vault/hexai02/CarpalTunnel/Images/132.dcm\n",
      "/data_vault/hexai02/CarpalTunnel/Images/133.dcm\n",
      "/data_vault/hexai02/CarpalTunnel/Images/134.dcm\n",
      "/data_vault/hexai02/CarpalTunnel/Images/135.dcm\n",
      "/data_vault/hexai02/CarpalTunnel/Images/136.dcm\n",
      "/data_vault/hexai02/CarpalTunnel/Images/137.dcm\n",
      "/data_vault/hexai02/CarpalTunnel/Images/138.dcm\n",
      "/data_vault/hexai02/CarpalTunnel/Images/139.dcm\n",
      "/data_vault/hexai02/CarpalTunnel/Images/140.dcm\n",
      "/data_vault/hexai02/CarpalTunnel/Images/141.dcm\n",
      "/data_vault/hexai02/CarpalTunnel/Images/142.dcm\n",
      "/data_vault/hexai02/CarpalTunnel/Images/143.dcm\n",
      "/data_vault/hexai02/CarpalTunnel/Images/144.dcm\n",
      "/data_vault/hexai02/CarpalTunnel/Images/145.dcm\n",
      "/data_vault/hexai02/CarpalTunnel/Images/146.dcm\n",
      "/data_vault/hexai02/CarpalTunnel/Images/147.dcm\n",
      "/data_vault/hexai02/CarpalTunnel/Images/148.dcm\n",
      "/data_vault/hexai02/CarpalTunnel/Images/149.dcm\n",
      "/data_vault/hexai02/CarpalTunnel/Images/150.dcm\n",
      "/data_vault/hexai02/CarpalTunnel/Images/151.dcm\n",
      "/data_vault/hexai02/CarpalTunnel/Images/152.dcm\n",
      "/data_vault/hexai02/CarpalTunnel/Images/153.dcm\n",
      "/data_vault/hexai02/CarpalTunnel/Images/154.dcm\n",
      "/data_vault/hexai02/CarpalTunnel/Images/155.dcm\n",
      "/data_vault/hexai02/CarpalTunnel/Images/156A.dcm\n",
      "/data_vault/hexai02/CarpalTunnel/Images/156B.dcm\n",
      "/data_vault/hexai02/CarpalTunnel/Images/157.dcm\n",
      "/data_vault/hexai02/CarpalTunnel/Images/158.dcm\n",
      "/data_vault/hexai02/CarpalTunnel/Images/159A.dcm\n",
      "/data_vault/hexai02/CarpalTunnel/Images/159B.dcm\n",
      "/data_vault/hexai02/CarpalTunnel/Images/160.dcm\n",
      "/data_vault/hexai02/CarpalTunnel/Images/161.dcm\n",
      "/data_vault/hexai02/CarpalTunnel/Images/162A.dcm\n",
      "/data_vault/hexai02/CarpalTunnel/Images/162B.dcm\n",
      "/data_vault/hexai02/CarpalTunnel/Images/163.dcm\n",
      "/data_vault/hexai02/CarpalTunnel/Images/164.dcm\n",
      "/data_vault/hexai02/CarpalTunnel/Images/165.dcm\n",
      "/data_vault/hexai02/CarpalTunnel/Images/166.dcm\n",
      "/data_vault/hexai02/CarpalTunnel/Images/167.dcm\n",
      "/data_vault/hexai02/CarpalTunnel/Images/168A.dcm\n",
      "/data_vault/hexai02/CarpalTunnel/Images/169.dcm\n",
      "/data_vault/hexai02/CarpalTunnel/Images/170A.dcm\n",
      "/data_vault/hexai02/CarpalTunnel/Images/170B.dcm\n",
      "/data_vault/hexai02/CarpalTunnel/Images/171A.dcm\n",
      "/data_vault/hexai02/CarpalTunnel/Images/171B.dcm\n",
      "/data_vault/hexai02/CarpalTunnel/Images/172.dcm\n",
      "/data_vault/hexai02/CarpalTunnel/Images/173.dcm\n",
      "/data_vault/hexai02/CarpalTunnel/Images/174.dcm\n",
      "/data_vault/hexai02/CarpalTunnel/Images/175.dcm\n",
      "/data_vault/hexai02/CarpalTunnel/Images/177.dcm\n",
      "/data_vault/hexai02/CarpalTunnel/Images/179.dcm\n",
      "/data_vault/hexai02/CarpalTunnel/Images/180.dcm\n",
      "/data_vault/hexai02/CarpalTunnel/Images/181.dcm\n",
      "/data_vault/hexai02/CarpalTunnel/Images/182.dcm\n",
      "/data_vault/hexai02/CarpalTunnel/Images/183.dcm\n",
      "/data_vault/hexai02/CarpalTunnel/Images/184.dcm\n",
      "/data_vault/hexai02/CarpalTunnel/Images/185.dcm\n",
      "/data_vault/hexai02/CarpalTunnel/Images/186.dcm\n",
      "/data_vault/hexai02/CarpalTunnel/Images/21.dcm\n",
      "/data_vault/hexai02/CarpalTunnel/Images/22.dcm\n",
      "/data_vault/hexai02/CarpalTunnel/Images/23.dcm\n",
      "/data_vault/hexai02/CarpalTunnel/Images/24.dcm\n",
      "/data_vault/hexai02/CarpalTunnel/Images/25.dcm\n",
      "/data_vault/hexai02/CarpalTunnel/Images/27.dcm\n",
      "/data_vault/hexai02/CarpalTunnel/Images/30.dcm\n",
      "/data_vault/hexai02/CarpalTunnel/Images/33.dcm\n",
      "/data_vault/hexai02/CarpalTunnel/Images/35.dcm\n",
      "/data_vault/hexai02/CarpalTunnel/Images/36.dcm\n",
      "/data_vault/hexai02/CarpalTunnel/Images/39.dcm\n",
      "/data_vault/hexai02/CarpalTunnel/Images/40.dcm\n",
      "/data_vault/hexai02/CarpalTunnel/Images/43.dcm\n",
      "/data_vault/hexai02/CarpalTunnel/Images/44.dcm\n",
      "/data_vault/hexai02/CarpalTunnel/Images/45.dcm\n",
      "/data_vault/hexai02/CarpalTunnel/Images/47.dcm\n",
      "/data_vault/hexai02/CarpalTunnel/Images/48.dcm\n",
      "/data_vault/hexai02/CarpalTunnel/Images/54.dcm\n",
      "/data_vault/hexai02/CarpalTunnel/Images/57.dcm\n",
      "/data_vault/hexai02/CarpalTunnel/Images/61.dcm\n",
      "/data_vault/hexai02/CarpalTunnel/Images/62.dcm\n",
      "/data_vault/hexai02/CarpalTunnel/Images/63.dcm\n",
      "/data_vault/hexai02/CarpalTunnel/Images/64.dcm\n",
      "/data_vault/hexai02/CarpalTunnel/Images/68.dcm\n",
      "/data_vault/hexai02/CarpalTunnel/Images/71.dcm\n",
      "/data_vault/hexai02/CarpalTunnel/Images/72.dcm\n",
      "/data_vault/hexai02/CarpalTunnel/Images/73.dcm\n",
      "/data_vault/hexai02/CarpalTunnel/Images/77.dcm\n",
      "/data_vault/hexai02/CarpalTunnel/Images/81.dcm\n",
      "/data_vault/hexai02/CarpalTunnel/Images/86.dcm\n",
      "/data_vault/hexai02/CarpalTunnel/Images/96.dcm\n",
      "/data_vault/hexai02/CarpalTunnel/Images/98.dcm\n",
      "/data_vault/hexai02/CarpalTunnel/Images/99.dcm\n"
     ]
    }
   ],
   "source": [
    "dicom_paths = sorted(os.listdir(dicom_dir))\n",
    "\n",
    "badset = {'97.dcm', '95.dcm', '178.dcm'}\n",
    "for i in range(len(dicom_paths)):\n",
    "    if dicom_paths[i] in badset:\n",
    "        continue\n",
    "    anno_path = dicom_paths[i].split('.')[0] + '.nii.gz'\n",
    "    dicom_path = os.path.join(dicom_dir, dicom_paths[i])\n",
    "    anno_path = os.path.join(anno_dir, anno_path)\n",
    "    print(dicom_path)\n",
    "    img_array = load_dicom(dicom_path)\n",
    "    img_jpg = dicom_to_jpg(img_array)\n",
    "    # height, width, dim = img_array.shape\n",
    "    height, width = img_array.shape\n",
    "    bbox = anno_to_yolo(anno_path, height, width)\n",
    "\n",
    "\n",
    "    img_filename = dicom_paths[i].replace('.dcm', '.jpg')\n",
    "    label_filename = img_filename.replace('.jpg', '.txt')\n",
    "    \n",
    "    if random.random() < 0.8:\n",
    "        img_jpg.save(os.path.join(image_train_dir, img_filename))\n",
    "        with open(os.path.join(label_train_dir, label_filename), 'w') as f:\n",
    "            f.write(f\"0 {' '.join(map(str, bbox))}\\n\")\n",
    "\n",
    "    else:\n",
    "        img_jpg.save(os.path.join(image_val_dir, img_filename))\n",
    "        with open(os.path.join(label_val_dir, label_filename), 'w') as f:\n",
    "            f.write(f\"0 {' '.join(map(str, bbox))}\\n\")\n",
    "\n",
    "    "
   ]
  },
  {
   "cell_type": "code",
   "execution_count": 8,
   "id": "b0e1fd94-f0ff-469a-ade4-0ecbc0158eda",
   "metadata": {},
   "outputs": [
    {
     "data": {
      "text/plain": [
       "'96.dcm'"
      ]
     },
     "execution_count": 8,
     "metadata": {},
     "output_type": "execute_result"
    }
   ],
   "source": [
    "dicom_paths[i]"
   ]
  },
  {
   "cell_type": "code",
   "execution_count": 18,
   "id": "67e82200-b7ad-4dcc-b3c9-556daaa7fadf",
   "metadata": {},
   "outputs": [
    {
     "name": "stdout",
     "output_type": "stream",
     "text": [
      "Overwriting data_yolo.yaml\n"
     ]
    }
   ],
   "source": [
    "%%writefile data_yolo.yaml\n",
    "path: /home/abk171/hexai_work/data_yolo\n",
    "train: images/train\n",
    "val: images/val\n",
    "test: images/test\n",
    "\n",
    "names:\n",
    "    0: ulnar"
   ]
  },
  {
   "cell_type": "code",
   "execution_count": 20,
   "id": "5c69d127-1b2f-46c2-ab38-50856e2d252d",
   "metadata": {},
   "outputs": [
    {
     "name": "stdout",
     "output_type": "stream",
     "text": [
      "New https://pypi.org/project/ultralytics/8.3.85 available 😃 Update with 'pip install -U ultralytics'\n",
      "Ultralytics 8.3.75 🚀 Python-3.10.12 torch-2.6.0+cu124 CUDA:0 (Quadro RTX 8000, 48407MiB)\n",
      "\u001b[34m\u001b[1mengine/trainer: \u001b[0mtask=detect, mode=train, model=yolo11n.pt, data=data_yolo.yaml, epochs=20, time=None, patience=0, batch=16, imgsz=[450, 1100], save=True, save_period=-1, cache=False, device=None, workers=4, project=None, name=train17, exist_ok=False, pretrained=True, optimizer=AdamW, verbose=True, seed=0, deterministic=True, single_cls=False, rect=False, cos_lr=False, close_mosaic=10, resume=False, amp=True, fraction=1.0, profile=False, freeze=None, multi_scale=False, overlap_mask=True, mask_ratio=4, dropout=0.0, val=True, split=val, save_json=False, save_hybrid=False, conf=None, iou=0.7, max_det=300, half=False, dnn=False, plots=True, source=None, vid_stride=1, stream_buffer=False, visualize=False, augment=False, agnostic_nms=False, classes=None, retina_masks=False, embed=None, show=False, save_frames=False, save_txt=False, save_conf=False, save_crop=False, show_labels=True, show_conf=True, show_boxes=True, line_width=None, format=torchscript, keras=False, optimize=False, int8=False, dynamic=False, simplify=True, opset=None, workspace=None, nms=False, lr0=0.001, lrf=0.01, momentum=0.937, weight_decay=0.0005, warmup_epochs=3.0, warmup_momentum=0.8, warmup_bias_lr=0.1, box=7.5, cls=0.5, dfl=1.5, pose=12.0, kobj=1.0, nbs=64, hsv_h=0.015, hsv_s=0.7, hsv_v=0.4, degrees=0.0, translate=0.1, scale=0.5, shear=0.0, perspective=0.0, flipud=0.0, fliplr=0.5, bgr=0.0, mosaic=1.0, mixup=0.0, copy_paste=0.0, copy_paste_mode=flip, auto_augment=randaugment, erasing=0.4, crop_fraction=0.2, cfg=None, tracker=botsort.yaml, save_dir=runs/detect/train17\n",
      "Overriding model.yaml nc=80 with nc=1\n",
      "\n",
      "                   from  n    params  module                                       arguments                     \n",
      "  0                  -1  1       464  ultralytics.nn.modules.conv.Conv             [3, 16, 3, 2]                 \n",
      "  1                  -1  1      4672  ultralytics.nn.modules.conv.Conv             [16, 32, 3, 2]                \n",
      "  2                  -1  1      6640  ultralytics.nn.modules.block.C3k2            [32, 64, 1, False, 0.25]      \n",
      "  3                  -1  1     36992  ultralytics.nn.modules.conv.Conv             [64, 64, 3, 2]                \n",
      "  4                  -1  1     26080  ultralytics.nn.modules.block.C3k2            [64, 128, 1, False, 0.25]     \n",
      "  5                  -1  1    147712  ultralytics.nn.modules.conv.Conv             [128, 128, 3, 2]              \n",
      "  6                  -1  1     87040  ultralytics.nn.modules.block.C3k2            [128, 128, 1, True]           \n",
      "  7                  -1  1    295424  ultralytics.nn.modules.conv.Conv             [128, 256, 3, 2]              \n",
      "  8                  -1  1    346112  ultralytics.nn.modules.block.C3k2            [256, 256, 1, True]           \n",
      "  9                  -1  1    164608  ultralytics.nn.modules.block.SPPF            [256, 256, 5]                 \n",
      " 10                  -1  1    249728  ultralytics.nn.modules.block.C2PSA           [256, 256, 1]                 \n",
      " 11                  -1  1         0  torch.nn.modules.upsampling.Upsample         [None, 2, 'nearest']          \n",
      " 12             [-1, 6]  1         0  ultralytics.nn.modules.conv.Concat           [1]                           \n",
      " 13                  -1  1    111296  ultralytics.nn.modules.block.C3k2            [384, 128, 1, False]          \n",
      " 14                  -1  1         0  torch.nn.modules.upsampling.Upsample         [None, 2, 'nearest']          \n",
      " 15             [-1, 4]  1         0  ultralytics.nn.modules.conv.Concat           [1]                           \n",
      " 16                  -1  1     32096  ultralytics.nn.modules.block.C3k2            [256, 64, 1, False]           \n",
      " 17                  -1  1     36992  ultralytics.nn.modules.conv.Conv             [64, 64, 3, 2]                \n",
      " 18            [-1, 13]  1         0  ultralytics.nn.modules.conv.Concat           [1]                           \n",
      " 19                  -1  1     86720  ultralytics.nn.modules.block.C3k2            [192, 128, 1, False]          \n",
      " 20                  -1  1    147712  ultralytics.nn.modules.conv.Conv             [128, 128, 3, 2]              \n",
      " 21            [-1, 10]  1         0  ultralytics.nn.modules.conv.Concat           [1]                           \n",
      " 22                  -1  1    378880  ultralytics.nn.modules.block.C3k2            [384, 256, 1, True]           \n",
      " 23        [16, 19, 22]  1    430867  ultralytics.nn.modules.head.Detect           [1, [64, 128, 256]]           \n",
      "YOLO11n summary: 319 layers, 2,590,035 parameters, 2,590,019 gradients, 6.4 GFLOPs\n",
      "\n",
      "Transferred 448/499 items from pretrained weights\n",
      "Freezing layer 'model.23.dfl.conv.weight'\n",
      "\u001b[34m\u001b[1mAMP: \u001b[0mrunning Automatic Mixed Precision (AMP) checks...\n",
      "\u001b[34m\u001b[1mAMP: \u001b[0mchecks passed ✅\n",
      "WARNING ⚠️ updating to 'imgsz=1100'. 'train' and 'val' imgsz must be an integer, while 'predict' and 'export' imgsz may be a [h, w] list or an integer, i.e. 'yolo export imgsz=640,480' or 'yolo export imgsz=640'\n",
      "WARNING ⚠️ imgsz=[1100] must be multiple of max stride 32, updating to [1120]\n"
     ]
    },
    {
     "name": "stderr",
     "output_type": "stream",
     "text": [
      "\u001b[34m\u001b[1mtrain: \u001b[0mScanning /home/abk171/hexai_work/data_yolo/labels/train.cache... 87 image\u001b[0m\n",
      "\u001b[34m\u001b[1mval: \u001b[0mScanning /home/abk171/hexai_work/data_yolo/labels/val.cache... 33 images, 0\u001b[0m\n"
     ]
    },
    {
     "name": "stdout",
     "output_type": "stream",
     "text": [
      "Plotting labels to runs/detect/train17/labels.jpg... \n",
      "\u001b[34m\u001b[1moptimizer:\u001b[0m AdamW(lr=0.001, momentum=0.937) with parameter groups 81 weight(decay=0.0), 88 weight(decay=0.0005), 87 bias(decay=0.0)\n",
      "Image sizes 1120 train, 1120 val\n",
      "Using 4 dataloader workers\n",
      "Logging results to \u001b[1mruns/detect/train17\u001b[0m\n",
      "Starting training for 20 epochs...\n",
      "\n",
      "      Epoch    GPU_mem   box_loss   cls_loss   dfl_loss  Instances       Size\n"
     ]
    },
    {
     "name": "stderr",
     "output_type": "stream",
     "text": [
      "       1/20      7.51G      1.965      5.725      1.793         15       1120: 1\n",
      "                 Class     Images  Instances      Box(P          R      mAP50  m\n"
     ]
    },
    {
     "name": "stdout",
     "output_type": "stream",
     "text": [
      "                   all         33         33    0.00152      0.455    0.00111   0.000323\n",
      "\n",
      "      Epoch    GPU_mem   box_loss   cls_loss   dfl_loss  Instances       Size\n"
     ]
    },
    {
     "name": "stderr",
     "output_type": "stream",
     "text": [
      "       2/20      7.18G      1.671      4.934      1.546         14       1120: 1\n",
      "                 Class     Images  Instances      Box(P          R      mAP50  m"
     ]
    },
    {
     "name": "stdout",
     "output_type": "stream",
     "text": [
      "                   all         33         33    0.00232      0.697    0.00199    0.00053\n"
     ]
    },
    {
     "name": "stderr",
     "output_type": "stream",
     "text": [
      "\n"
     ]
    },
    {
     "name": "stdout",
     "output_type": "stream",
     "text": [
      "\n",
      "      Epoch    GPU_mem   box_loss   cls_loss   dfl_loss  Instances       Size\n"
     ]
    },
    {
     "name": "stderr",
     "output_type": "stream",
     "text": [
      "       3/20      7.18G      1.176      3.173      1.118         18       1120: 1\n",
      "                 Class     Images  Instances      Box(P          R      mAP50  m"
     ]
    },
    {
     "name": "stdout",
     "output_type": "stream",
     "text": [
      "                   all         33         33   0.000635      0.121   0.000462   5.57e-05\n"
     ]
    },
    {
     "name": "stderr",
     "output_type": "stream",
     "text": [
      "\n"
     ]
    },
    {
     "name": "stdout",
     "output_type": "stream",
     "text": [
      "\n",
      "      Epoch    GPU_mem   box_loss   cls_loss   dfl_loss  Instances       Size\n"
     ]
    },
    {
     "name": "stderr",
     "output_type": "stream",
     "text": [
      "       4/20      7.18G      1.088       2.32      1.127         11       1120: 1\n",
      "                 Class     Images  Instances      Box(P          R      mAP50  m"
     ]
    },
    {
     "name": "stdout",
     "output_type": "stream",
     "text": [
      "                   all         33         33   0.000295     0.0606   0.000192   1.92e-05\n"
     ]
    },
    {
     "name": "stderr",
     "output_type": "stream",
     "text": [
      "\n"
     ]
    },
    {
     "name": "stdout",
     "output_type": "stream",
     "text": [
      "\n",
      "      Epoch    GPU_mem   box_loss   cls_loss   dfl_loss  Instances       Size\n"
     ]
    },
    {
     "name": "stderr",
     "output_type": "stream",
     "text": [
      "       5/20      7.18G      1.072      1.646      1.087         12       1120: 1\n",
      "                 Class     Images  Instances      Box(P          R      mAP50  m"
     ]
    },
    {
     "name": "stdout",
     "output_type": "stream",
     "text": [
      "                   all         33         33   0.000171     0.0303   9.08e-05   9.08e-06\n"
     ]
    },
    {
     "name": "stderr",
     "output_type": "stream",
     "text": [
      "\n"
     ]
    },
    {
     "name": "stdout",
     "output_type": "stream",
     "text": [
      "\n",
      "      Epoch    GPU_mem   box_loss   cls_loss   dfl_loss  Instances       Size\n"
     ]
    },
    {
     "name": "stderr",
     "output_type": "stream",
     "text": [
      "       6/20      7.18G      1.007      1.364      1.046         13       1120: 1\n",
      "                 Class     Images  Instances      Box(P          R      mAP50  m"
     ]
    },
    {
     "name": "stdout",
     "output_type": "stream",
     "text": [
      "                   all         33         33   0.000171     0.0303   9.08e-05   9.08e-06\n"
     ]
    },
    {
     "name": "stderr",
     "output_type": "stream",
     "text": [
      "\n"
     ]
    },
    {
     "name": "stdout",
     "output_type": "stream",
     "text": [
      "\n",
      "      Epoch    GPU_mem   box_loss   cls_loss   dfl_loss  Instances       Size\n"
     ]
    },
    {
     "name": "stderr",
     "output_type": "stream",
     "text": [
      "       7/20      7.18G      1.017      1.264      1.079         16       1120: 1\n",
      "                 Class     Images  Instances      Box(P          R      mAP50  m"
     ]
    },
    {
     "name": "stdout",
     "output_type": "stream",
     "text": [
      "                   all         33         33   0.000411     0.0606   0.000219   4.37e-05\n"
     ]
    },
    {
     "name": "stderr",
     "output_type": "stream",
     "text": [
      "\n"
     ]
    },
    {
     "name": "stdout",
     "output_type": "stream",
     "text": [
      "\n",
      "      Epoch    GPU_mem   box_loss   cls_loss   dfl_loss  Instances       Size\n"
     ]
    },
    {
     "name": "stderr",
     "output_type": "stream",
     "text": [
      "       8/20      7.18G     0.9553     0.9892      1.002         10       1120: 1\n",
      "                 Class     Images  Instances      Box(P          R      mAP50  m"
     ]
    },
    {
     "name": "stdout",
     "output_type": "stream",
     "text": [
      "                   all         33         33    0.00116      0.152   0.000705   0.000468\n"
     ]
    },
    {
     "name": "stderr",
     "output_type": "stream",
     "text": [
      "\n"
     ]
    },
    {
     "name": "stdout",
     "output_type": "stream",
     "text": [
      "\n",
      "      Epoch    GPU_mem   box_loss   cls_loss   dfl_loss  Instances       Size\n"
     ]
    },
    {
     "name": "stderr",
     "output_type": "stream",
     "text": [
      "       9/20      7.18G      0.856     0.9752      1.002         17       1120: 1\n",
      "                 Class     Images  Instances      Box(P          R      mAP50  m"
     ]
    },
    {
     "name": "stdout",
     "output_type": "stream",
     "text": [
      "                   all         33         33     0.0136      0.121     0.0577     0.0474\n"
     ]
    },
    {
     "name": "stderr",
     "output_type": "stream",
     "text": [
      "\n"
     ]
    },
    {
     "name": "stdout",
     "output_type": "stream",
     "text": [
      "\n",
      "      Epoch    GPU_mem   box_loss   cls_loss   dfl_loss  Instances       Size\n"
     ]
    },
    {
     "name": "stderr",
     "output_type": "stream",
     "text": [
      "      10/20      7.18G     0.9678     0.9027      0.994         17       1120: 1\n",
      "                 Class     Images  Instances      Box(P          R      mAP50  m"
     ]
    },
    {
     "name": "stdout",
     "output_type": "stream",
     "text": [
      "                   all         33         33      0.294      0.303      0.388      0.308\n"
     ]
    },
    {
     "name": "stderr",
     "output_type": "stream",
     "text": [
      "\n"
     ]
    },
    {
     "name": "stdout",
     "output_type": "stream",
     "text": [
      "Closing dataloader mosaic\n",
      "\n",
      "      Epoch    GPU_mem   box_loss   cls_loss   dfl_loss  Instances       Size\n"
     ]
    },
    {
     "name": "stderr",
     "output_type": "stream",
     "text": [
      "      11/20       7.5G     0.8607      0.973     0.9901          7       1120: 1\n",
      "                 Class     Images  Instances      Box(P          R      mAP50  m"
     ]
    },
    {
     "name": "stdout",
     "output_type": "stream",
     "text": [
      "                   all         33         33      0.206      0.394      0.395      0.296\n"
     ]
    },
    {
     "name": "stderr",
     "output_type": "stream",
     "text": [
      "\n"
     ]
    },
    {
     "name": "stdout",
     "output_type": "stream",
     "text": [
      "\n",
      "      Epoch    GPU_mem   box_loss   cls_loss   dfl_loss  Instances       Size\n"
     ]
    },
    {
     "name": "stderr",
     "output_type": "stream",
     "text": [
      "      12/20      7.18G     0.8334     0.9035     0.9726          7       1120: 1\n",
      "                 Class     Images  Instances      Box(P          R      mAP50  m"
     ]
    },
    {
     "name": "stdout",
     "output_type": "stream",
     "text": [
      "                   all         33         33       0.63      0.515      0.655      0.511\n"
     ]
    },
    {
     "name": "stderr",
     "output_type": "stream",
     "text": [
      "\n"
     ]
    },
    {
     "name": "stdout",
     "output_type": "stream",
     "text": [
      "\n",
      "      Epoch    GPU_mem   box_loss   cls_loss   dfl_loss  Instances       Size\n"
     ]
    },
    {
     "name": "stderr",
     "output_type": "stream",
     "text": [
      "      13/20      7.18G     0.7838     0.7552     0.9636          7       1120: 1\n",
      "                 Class     Images  Instances      Box(P          R      mAP50  m"
     ]
    },
    {
     "name": "stdout",
     "output_type": "stream",
     "text": [
      "                   all         33         33      0.692      0.818      0.835      0.654\n"
     ]
    },
    {
     "name": "stderr",
     "output_type": "stream",
     "text": [
      "\n"
     ]
    },
    {
     "name": "stdout",
     "output_type": "stream",
     "text": [
      "\n",
      "      Epoch    GPU_mem   box_loss   cls_loss   dfl_loss  Instances       Size\n"
     ]
    },
    {
     "name": "stderr",
     "output_type": "stream",
     "text": [
      "      14/20      7.18G     0.8556     0.7327     0.9821          7       1120: 1\n",
      "                 Class     Images  Instances      Box(P          R      mAP50  m"
     ]
    },
    {
     "name": "stdout",
     "output_type": "stream",
     "text": [
      "                   all         33         33      0.518      0.879      0.866      0.676\n"
     ]
    },
    {
     "name": "stderr",
     "output_type": "stream",
     "text": [
      "\n"
     ]
    },
    {
     "name": "stdout",
     "output_type": "stream",
     "text": [
      "\n",
      "      Epoch    GPU_mem   box_loss   cls_loss   dfl_loss  Instances       Size\n"
     ]
    },
    {
     "name": "stderr",
     "output_type": "stream",
     "text": [
      "      15/20      7.18G     0.7712     0.7429     0.9681          7       1120: 1\n",
      "                 Class     Images  Instances      Box(P          R      mAP50  m"
     ]
    },
    {
     "name": "stdout",
     "output_type": "stream",
     "text": [
      "                   all         33         33      0.949      0.567       0.91      0.715\n"
     ]
    },
    {
     "name": "stderr",
     "output_type": "stream",
     "text": [
      "\n"
     ]
    },
    {
     "name": "stdout",
     "output_type": "stream",
     "text": [
      "\n",
      "      Epoch    GPU_mem   box_loss   cls_loss   dfl_loss  Instances       Size\n"
     ]
    },
    {
     "name": "stderr",
     "output_type": "stream",
     "text": [
      "      16/20      7.18G     0.7771     0.7131     0.9436          7       1120: 1\n",
      "                 Class     Images  Instances      Box(P          R      mAP50  m"
     ]
    },
    {
     "name": "stdout",
     "output_type": "stream",
     "text": [
      "                   all         33         33      0.897      0.758      0.936      0.738\n"
     ]
    },
    {
     "name": "stderr",
     "output_type": "stream",
     "text": [
      "\n"
     ]
    },
    {
     "name": "stdout",
     "output_type": "stream",
     "text": [
      "\n",
      "      Epoch    GPU_mem   box_loss   cls_loss   dfl_loss  Instances       Size\n"
     ]
    },
    {
     "name": "stderr",
     "output_type": "stream",
     "text": [
      "      17/20      7.18G     0.7008     0.6572     0.9071          7       1120: 1\n",
      "                 Class     Images  Instances      Box(P          R      mAP50  m"
     ]
    },
    {
     "name": "stdout",
     "output_type": "stream",
     "text": [
      "                   all         33         33      0.876      0.788       0.95      0.732\n"
     ]
    },
    {
     "name": "stderr",
     "output_type": "stream",
     "text": [
      "\n"
     ]
    },
    {
     "name": "stdout",
     "output_type": "stream",
     "text": [
      "\n",
      "      Epoch    GPU_mem   box_loss   cls_loss   dfl_loss  Instances       Size\n"
     ]
    },
    {
     "name": "stderr",
     "output_type": "stream",
     "text": [
      "      18/20      7.18G      0.708     0.6213      0.931          7       1120: 1\n",
      "                 Class     Images  Instances      Box(P          R      mAP50  m"
     ]
    },
    {
     "name": "stdout",
     "output_type": "stream",
     "text": [
      "                   all         33         33      0.945      0.788      0.956      0.755\n"
     ]
    },
    {
     "name": "stderr",
     "output_type": "stream",
     "text": [
      "\n"
     ]
    },
    {
     "name": "stdout",
     "output_type": "stream",
     "text": [
      "\n",
      "      Epoch    GPU_mem   box_loss   cls_loss   dfl_loss  Instances       Size\n"
     ]
    },
    {
     "name": "stderr",
     "output_type": "stream",
     "text": [
      "      19/20      7.18G     0.7403     0.6561     0.9304          7       1120: 1\n",
      "                 Class     Images  Instances      Box(P          R      mAP50  m"
     ]
    },
    {
     "name": "stdout",
     "output_type": "stream",
     "text": [
      "                   all         33         33      0.947      0.818      0.958      0.773\n"
     ]
    },
    {
     "name": "stderr",
     "output_type": "stream",
     "text": [
      "\n"
     ]
    },
    {
     "name": "stdout",
     "output_type": "stream",
     "text": [
      "\n",
      "      Epoch    GPU_mem   box_loss   cls_loss   dfl_loss  Instances       Size\n"
     ]
    },
    {
     "name": "stderr",
     "output_type": "stream",
     "text": [
      "      20/20      7.18G     0.6579     0.5953     0.8644          7       1120: 1\n",
      "                 Class     Images  Instances      Box(P          R      mAP50  m"
     ]
    },
    {
     "name": "stdout",
     "output_type": "stream",
     "text": [
      "                   all         33         33      0.979      0.818      0.959       0.78\n"
     ]
    },
    {
     "name": "stderr",
     "output_type": "stream",
     "text": [
      "\n"
     ]
    },
    {
     "name": "stdout",
     "output_type": "stream",
     "text": [
      "\n",
      "20 epochs completed in 0.012 hours.\n",
      "Optimizer stripped from runs/detect/train17/weights/last.pt, 5.5MB\n",
      "Optimizer stripped from runs/detect/train17/weights/best.pt, 5.5MB\n",
      "\n",
      "Validating runs/detect/train17/weights/best.pt...\n",
      "Ultralytics 8.3.75 🚀 Python-3.10.12 torch-2.6.0+cu124 CUDA:0 (Quadro RTX 8000, 48407MiB)\n",
      "YOLO11n summary (fused): 238 layers, 2,582,347 parameters, 0 gradients, 6.3 GFLOPs\n"
     ]
    },
    {
     "name": "stderr",
     "output_type": "stream",
     "text": [
      "                 Class     Images  Instances      Box(P          R      mAP50  m\n"
     ]
    },
    {
     "name": "stdout",
     "output_type": "stream",
     "text": [
      "                   all         33         33       0.98      0.818      0.959       0.78\n",
      "Speed: 0.2ms preprocess, 1.2ms inference, 0.0ms loss, 0.6ms postprocess per image\n",
      "Results saved to \u001b[1mruns/detect/train17\u001b[0m\n"
     ]
    }
   ],
   "source": [
    "model = YOLO('yolo11n.pt')\n",
    "\n",
    "results = model.train(\n",
    "    data='data_yolo.yaml',\n",
    "    imgsz=[450, 1100],\n",
    "    epochs=20,\n",
    "    patience= 0,\n",
    "    batch=16,\n",
    "    workers=4,\n",
    "    optimizer='AdamW',\n",
    "    lr0=0.001, fliplr=0.5,crop_fraction=0.2\n",
    "    )"
   ]
  },
  {
   "cell_type": "code",
   "execution_count": 25,
   "id": "25d6099b-a9b4-4e85-94c7-18751b9546fb",
   "metadata": {},
   "outputs": [],
   "source": [
    "for i in badset:\n",
    "    dicom_path = os.path.join(dicom_dir, i)\n",
    "    img_array = load_dicom(dicom_path)\n",
    "    img_jpg = dicom_to_jpg(img_array)\n",
    "\n",
    "    img_filename = i.replace('.dcm', '.jpg')\n",
    "    img_jpg.save(os.path.join(image_test_dir, img_filename))"
   ]
  },
  {
   "cell_type": "code",
   "execution_count": 26,
   "id": "889ae991-f676-42b5-a902-3625b419295a",
   "metadata": {},
   "outputs": [
    {
     "name": "stdout",
     "output_type": "stream",
     "text": [
      "\n",
      "WARNING ⚠️ imgsz=[450, 1100] must be multiple of max stride 32, updating to [480, 1120]\n",
      "image 1/3 /home/abk171/data_yolo/images/test/178.jpg: 480x1120 1 ulnar, 28.5ms\n",
      "image 2/3 /home/abk171/data_yolo/images/test/95.jpg: 480x1120 (no detections), 8.0ms\n",
      "image 3/3 /home/abk171/data_yolo/images/test/97.jpg: 480x1120 1 ulnar, 7.2ms\n",
      "Speed: 10.9ms preprocess, 14.5ms inference, 1.4ms postprocess per image at shape (1, 3, 480, 1120)\n",
      "Results saved to \u001b[1mruns/detect/train113\u001b[0m\n"
     ]
    }
   ],
   "source": [
    "results = model(image_test_dir, imgsz=[450,1100], save=True)"
   ]
  }
 ],
 "metadata": {
  "kernelspec": {
   "display_name": "Python 3 (ipykernel)",
   "language": "python",
   "name": "python3"
  },
  "language_info": {
   "codemirror_mode": {
    "name": "ipython",
    "version": 3
   },
   "file_extension": ".py",
   "mimetype": "text/x-python",
   "name": "python",
   "nbconvert_exporter": "python",
   "pygments_lexer": "ipython3",
   "version": "3.10.12"
  }
 },
 "nbformat": 4,
 "nbformat_minor": 5
}
