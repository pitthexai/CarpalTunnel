{
 "cells": [
  {
   "cell_type": "code",
   "execution_count": 1,
   "id": "2268036f-ffea-486b-9df4-e6de9e251452",
   "metadata": {},
   "outputs": [],
   "source": [
    "import sys\n",
    "sys.path.append('/home/abk171/ultralytics')\n",
    "from ultralytics import YOLO\n",
    "import SimpleITK as sitk\n",
    "from PIL import Image\n",
    "import random\n",
    "import os\n",
    "import pydicom\n",
    "import numpy as np\n",
    "from tqdm import tqdm\n",
    "import wandb"
   ]
  },
  {
   "cell_type": "code",
   "execution_count": 2,
   "id": "5533cd41-52c1-4243-b6b6-439495fb0767",
   "metadata": {},
   "outputs": [],
   "source": [
    "restructured_root = 'data_yolo'\n",
    "image_dir = os.path.join(restructured_root, 'images')\n",
    "image_train_dir = os.path.join(image_dir, 'train')\n",
    "image_val_dir = os.path.join(image_dir, 'val')\n",
    "image_test_dir = os.path.join(image_dir, 'test')\n",
    "label_dir = os.path.join(restructured_root, 'labels')\n",
    "label_train_dir = os.path.join(label_dir, 'train')\n",
    "label_val_dir = os.path.join(label_dir, 'val')\n",
    "\n",
    "## make these directories\n",
    "os.makedirs(restructured_root, exist_ok=True)\n",
    "os.makedirs(image_dir, exist_ok=True)\n",
    "os.makedirs(image_train_dir, exist_ok=True)\n",
    "os.makedirs(image_val_dir, exist_ok=True)\n",
    "os.makedirs(image_test_dir, exist_ok=True)\n",
    "os.makedirs(label_dir, exist_ok=True)\n",
    "os.makedirs(label_train_dir, exist_ok=True)\n",
    "os.makedirs(label_val_dir, exist_ok=True)"
   ]
  },
  {
   "cell_type": "code",
   "execution_count": 3,
   "id": "50a32c9d-cfcc-44b4-a133-7b345e1365c5",
   "metadata": {},
   "outputs": [],
   "source": [
    "anno_dir = '/data_vault/hexai02/CarpalTunnel/Annotations'\n",
    "dicom_dir = '/data_vault/hexai02/CarpalTunnel/Images'"
   ]
  },
  {
   "cell_type": "code",
   "execution_count": 4,
   "id": "b439b6f0-ff20-48ff-86b9-3d00f666112e",
   "metadata": {},
   "outputs": [],
   "source": [
    "from Utilities.utilities import load_mask, get_bounding_box, load_dicom, dicom_to_jpg, anno_to_yolo"
   ]
  },
  {
   "cell_type": "code",
   "execution_count": 12,
   "id": "d80b2c74-8f84-4559-aedd-640fb52b65b3",
   "metadata": {},
   "outputs": [
    {
     "name": "stderr",
     "output_type": "stream",
     "text": [
      "Processing DICOMs: 100%|████████████████████████████████████████████| 123/123 [00:09<00:00, 13.03it/s]\n"
     ]
    }
   ],
   "source": [
    "dicom_paths = sorted(os.listdir(dicom_dir))\n",
    "\n",
    "badset = {'97.dcm', '95.dcm', '178.dcm'}\n",
    "for i in tqdm(range(len(dicom_paths)), desc=\"Processing DICOMs\"):\n",
    "    if dicom_paths[i] in badset:\n",
    "        continue\n",
    "    anno_path = dicom_paths[i].split('.')[0] + '.nii.gz'\n",
    "    dicom_path = os.path.join(dicom_dir, dicom_paths[i])\n",
    "    anno_path = os.path.join(anno_dir, anno_path)\n",
    "    \n",
    "    img_array = load_dicom(dicom_path)\n",
    "    img_jpg = dicom_to_jpg(img_array)\n",
    "    # height, width, dim = img_array.shape\n",
    "    height, width = img_array.shape\n",
    "    bbox = anno_to_yolo(anno_path, height, width)\n",
    "\n",
    "\n",
    "    img_filename = dicom_paths[i].replace('.dcm', '.jpg')\n",
    "    label_filename = img_filename.replace('.jpg', '.txt')\n",
    "    \n",
    "    if random.random() < 0.8:\n",
    "        img_jpg.save(os.path.join(image_train_dir, img_filename))\n",
    "        with open(os.path.join(label_train_dir, label_filename), 'w') as f:\n",
    "            f.write(f\"0 {' '.join(map(str, bbox))}\\n\")\n",
    "\n",
    "    else:\n",
    "        img_jpg.save(os.path.join(image_val_dir, img_filename))\n",
    "        with open(os.path.join(label_val_dir, label_filename), 'w') as f:\n",
    "            f.write(f\"0 {' '.join(map(str, bbox))}\\n\")\n",
    "\n",
    "    "
   ]
  },
  {
   "cell_type": "code",
   "execution_count": 8,
   "id": "b0e1fd94-f0ff-469a-ade4-0ecbc0158eda",
   "metadata": {},
   "outputs": [
    {
     "data": {
      "text/plain": [
       "'96.dcm'"
      ]
     },
     "execution_count": 8,
     "metadata": {},
     "output_type": "execute_result"
    }
   ],
   "source": [
    "dicom_paths[i]"
   ]
  },
  {
   "cell_type": "code",
   "execution_count": 3,
   "id": "67e82200-b7ad-4dcc-b3c9-556daaa7fadf",
   "metadata": {},
   "outputs": [
    {
     "name": "stdout",
     "output_type": "stream",
     "text": [
      "Overwriting data_yolo.yaml\n"
     ]
    }
   ],
   "source": [
    "%%writefile data_yolo.yaml\n",
    "path: /home/abk171/hexai_work/data_yolo\n",
    "train: images/train\n",
    "val: images/val\n",
    "test: images/test\n",
    "\n",
    "names:\n",
    "    0: ulnar"
   ]
  },
  {
   "cell_type": "code",
   "execution_count": 5,
   "id": "f0c5279a-8ad4-48ba-9dc5-07160745a8e2",
   "metadata": {},
   "outputs": [],
   "source": [
    "from ultralytics import YOLO\n",
    "from ultralytics import settings\n",
    "settings.update({\"wandb\": True})\n",
    "model = YOLO('yolo11n.pt')"
   ]
  },
  {
   "cell_type": "code",
   "execution_count": 6,
   "id": "b4b77890-45af-45b1-9cd8-99e4a5e3132e",
   "metadata": {},
   "outputs": [
    {
     "name": "stderr",
     "output_type": "stream",
     "text": [
      "\u001b[34m\u001b[1mwandb\u001b[0m: Using wandb-core as the SDK backend.  Please refer to https://wandb.me/wandb-core for more information.\n",
      "\u001b[34m\u001b[1mwandb\u001b[0m: \u001b[33mWARNING\u001b[0m If you're specifying your api key in code, ensure this code is not shared publicly.\n",
      "\u001b[34m\u001b[1mwandb\u001b[0m: \u001b[33mWARNING\u001b[0m Consider setting the WANDB_API_KEY environment variable, or running `wandb login` from the command line.\n",
      "\u001b[34m\u001b[1mwandb\u001b[0m: Appending key for api.wandb.ai to your netrc file: /home/abk171/.netrc\n",
      "\u001b[34m\u001b[1mwandb\u001b[0m: Currently logged in as: \u001b[33mabk171\u001b[0m (\u001b[33mabk171-university-of-pittsburgh\u001b[0m) to \u001b[32mhttps://api.wandb.ai\u001b[0m. Use \u001b[1m`wandb login --relogin`\u001b[0m to force relogin\n"
     ]
    },
    {
     "data": {
      "text/plain": [
       "True"
      ]
     },
     "execution_count": 6,
     "metadata": {},
     "output_type": "execute_result"
    }
   ],
   "source": [
    "import wandb\n",
    "wandb.login(key=\"6e6412a1eff673cacdcda973f6e61422daaa9387\")"
   ]
  },
  {
   "cell_type": "code",
   "execution_count": 7,
   "id": "5c69d127-1b2f-46c2-ab38-50856e2d252d",
   "metadata": {},
   "outputs": [
    {
     "name": "stdout",
     "output_type": "stream",
     "text": [
      "New https://pypi.org/project/ultralytics/8.3.95 available 😃 Update with 'pip install -U ultralytics'\n",
      "Ultralytics 8.3.94 🚀 Python-3.10.12 torch-2.6.0+cu124 CUDA:0 (Quadro RTX 8000, 48407MiB)\n",
      "\u001b[34m\u001b[1mengine/trainer: \u001b[0mtask=detect, mode=train, model=yolo11n.pt, data=data_yolo.yaml, epochs=40, time=None, patience=0, batch=16, imgsz=[450, 1100], save=True, save_period=-1, cache=False, device=None, workers=4, project=yolo, name=yolov11 40 epochs2, exist_ok=False, pretrained=True, optimizer=AdamW, verbose=True, seed=0, deterministic=True, single_cls=False, rect=False, cos_lr=False, close_mosaic=10, resume=False, amp=True, fraction=1.0, profile=False, freeze=None, multi_scale=False, overlap_mask=True, mask_ratio=4, dropout=0.0, val=True, split=val, save_json=False, save_hybrid=False, conf=None, iou=0.7, max_det=300, half=False, dnn=False, plots=True, source=None, vid_stride=1, stream_buffer=False, visualize=False, augment=False, agnostic_nms=False, classes=None, retina_masks=False, embed=None, show=False, save_frames=False, save_txt=False, save_conf=False, save_crop=False, show_labels=True, show_conf=True, show_boxes=True, line_width=None, format=torchscript, keras=False, optimize=False, int8=False, dynamic=False, simplify=True, opset=None, workspace=None, nms=False, lr0=0.001, lrf=0.01, momentum=0.937, weight_decay=0.0005, warmup_epochs=3.0, warmup_momentum=0.8, warmup_bias_lr=0.1, box=7.5, cls=0.5, dfl=1.5, pose=12.0, kobj=1.0, nbs=64, hsv_h=0.015, hsv_s=0.7, hsv_v=0.4, degrees=0.0, translate=0.1, scale=0.5, shear=0.0, perspective=0.0, flipud=0.0, fliplr=0.5, bgr=0.0, mosaic=1.0, mixup=0.0, copy_paste=0.0, copy_paste_mode=flip, auto_augment=randaugment, erasing=0.4, crop_fraction=0.2, cfg=None, tracker=botsort.yaml, save_dir=yolo/yolov11 40 epochs2\n",
      "Overriding model.yaml nc=80 with nc=1\n",
      "\n",
      "                   from  n    params  module                                       arguments                     \n",
      "  0                  -1  1       464  ultralytics.nn.modules.conv.Conv             [3, 16, 3, 2]                 \n",
      "  1                  -1  1      4672  ultralytics.nn.modules.conv.Conv             [16, 32, 3, 2]                \n",
      "  2                  -1  1      6640  ultralytics.nn.modules.block.C3k2            [32, 64, 1, False, 0.25]      \n",
      "  3                  -1  1     36992  ultralytics.nn.modules.conv.Conv             [64, 64, 3, 2]                \n",
      "  4                  -1  1     26080  ultralytics.nn.modules.block.C3k2            [64, 128, 1, False, 0.25]     \n",
      "  5                  -1  1    147712  ultralytics.nn.modules.conv.Conv             [128, 128, 3, 2]              \n",
      "  6                  -1  1     87040  ultralytics.nn.modules.block.C3k2            [128, 128, 1, True]           \n",
      "  7                  -1  1    295424  ultralytics.nn.modules.conv.Conv             [128, 256, 3, 2]              \n",
      "  8                  -1  1    346112  ultralytics.nn.modules.block.C3k2            [256, 256, 1, True]           \n",
      "  9                  -1  1    164608  ultralytics.nn.modules.block.SPPF            [256, 256, 5]                 \n",
      " 10                  -1  1    249728  ultralytics.nn.modules.block.C2PSA           [256, 256, 1]                 \n",
      " 11                  -1  1         0  torch.nn.modules.upsampling.Upsample         [None, 2, 'nearest']          \n",
      " 12             [-1, 6]  1         0  ultralytics.nn.modules.conv.Concat           [1]                           \n",
      " 13                  -1  1    111296  ultralytics.nn.modules.block.C3k2            [384, 128, 1, False]          \n",
      " 14                  -1  1         0  torch.nn.modules.upsampling.Upsample         [None, 2, 'nearest']          \n",
      " 15             [-1, 4]  1         0  ultralytics.nn.modules.conv.Concat           [1]                           \n",
      " 16                  -1  1     32096  ultralytics.nn.modules.block.C3k2            [256, 64, 1, False]           \n",
      " 17                  -1  1     36992  ultralytics.nn.modules.conv.Conv             [64, 64, 3, 2]                \n",
      " 18            [-1, 13]  1         0  ultralytics.nn.modules.conv.Concat           [1]                           \n",
      " 19                  -1  1     86720  ultralytics.nn.modules.block.C3k2            [192, 128, 1, False]          \n",
      " 20                  -1  1    147712  ultralytics.nn.modules.conv.Conv             [128, 128, 3, 2]              \n",
      " 21            [-1, 10]  1         0  ultralytics.nn.modules.conv.Concat           [1]                           \n",
      " 22                  -1  1    378880  ultralytics.nn.modules.block.C3k2            [384, 256, 1, True]           \n",
      " 23        [16, 19, 22]  1    430867  ultralytics.nn.modules.head.Detect           [1, [64, 128, 256]]           \n",
      "YOLO11n summary: 181 layers, 2,590,035 parameters, 2,590,019 gradients, 6.4 GFLOPs\n",
      "\n",
      "Transferred 448/499 items from pretrained weights\n"
     ]
    },
    {
     "data": {
      "text/html": [
       "Tracking run with wandb version 0.19.8"
      ],
      "text/plain": [
       "<IPython.core.display.HTML object>"
      ]
     },
     "metadata": {},
     "output_type": "display_data"
    },
    {
     "data": {
      "text/html": [
       "Run data is saved locally in <code>/home/abk171/hexai_work/wandb/run-20250323_172358-zl65o5x7</code>"
      ],
      "text/plain": [
       "<IPython.core.display.HTML object>"
      ]
     },
     "metadata": {},
     "output_type": "display_data"
    },
    {
     "data": {
      "text/html": [
       "Syncing run <strong><a href='https://wandb.ai/abk171-university-of-pittsburgh/yolo/runs/zl65o5x7' target=\"_blank\">yolov11 40 epochs2</a></strong> to <a href='https://wandb.ai/abk171-university-of-pittsburgh/yolo' target=\"_blank\">Weights & Biases</a> (<a href='https://wandb.me/developer-guide' target=\"_blank\">docs</a>)<br>"
      ],
      "text/plain": [
       "<IPython.core.display.HTML object>"
      ]
     },
     "metadata": {},
     "output_type": "display_data"
    },
    {
     "data": {
      "text/html": [
       " View project at <a href='https://wandb.ai/abk171-university-of-pittsburgh/yolo' target=\"_blank\">https://wandb.ai/abk171-university-of-pittsburgh/yolo</a>"
      ],
      "text/plain": [
       "<IPython.core.display.HTML object>"
      ]
     },
     "metadata": {},
     "output_type": "display_data"
    },
    {
     "data": {
      "text/html": [
       " View run at <a href='https://wandb.ai/abk171-university-of-pittsburgh/yolo/runs/zl65o5x7' target=\"_blank\">https://wandb.ai/abk171-university-of-pittsburgh/yolo/runs/zl65o5x7</a>"
      ],
      "text/plain": [
       "<IPython.core.display.HTML object>"
      ]
     },
     "metadata": {},
     "output_type": "display_data"
    },
    {
     "name": "stdout",
     "output_type": "stream",
     "text": [
      "Freezing layer 'model.23.dfl.conv.weight'\n",
      "\u001b[34m\u001b[1mAMP: \u001b[0mrunning Automatic Mixed Precision (AMP) checks...\n",
      "\u001b[34m\u001b[1mAMP: \u001b[0mchecks passed ✅\n",
      "WARNING ⚠️ updating to 'imgsz=1100'. 'train' and 'val' imgsz must be an integer, while 'predict' and 'export' imgsz may be a [h, w] list or an integer, i.e. 'yolo export imgsz=640,480' or 'yolo export imgsz=640'\n",
      "WARNING ⚠️ imgsz=[1100] must be multiple of max stride 32, updating to [1120]\n"
     ]
    },
    {
     "name": "stderr",
     "output_type": "stream",
     "text": [
      "\u001b[34m\u001b[1mtrain: \u001b[0mScanning /home/abk171/hexai_work/data_yolo/labels/t\u001b[0m\n",
      "\u001b[34m\u001b[1mval: \u001b[0mScanning /home/abk171/hexai_work/data_yolo/labels/val\u001b[0m\n"
     ]
    },
    {
     "name": "stdout",
     "output_type": "stream",
     "text": [
      "Plotting labels to yolo/yolov11 40 epochs2/labels.jpg... \n",
      "\u001b[34m\u001b[1moptimizer:\u001b[0m AdamW(lr=0.001, momentum=0.937) with parameter groups 81 weight(decay=0.0), 88 weight(decay=0.0005), 87 bias(decay=0.0)\n",
      "Image sizes 1120 train, 1120 val\n",
      "Using 4 dataloader workers\n",
      "Logging results to \u001b[1myolo/yolov11 40 epochs2\u001b[0m\n",
      "Starting training for 40 epochs...\n",
      "\n",
      "      Epoch    GPU_mem   box_loss   cls_loss   dfl_loss  Instances       Size\n"
     ]
    },
    {
     "name": "stderr",
     "output_type": "stream",
     "text": [
      "       1/40      6.98G      1.948      5.512      1.739   \n",
      "                 Class     Images  Instances      Box(P   "
     ]
    },
    {
     "name": "stdout",
     "output_type": "stream",
     "text": [
      "                   all         19         19    0.00123      0.368   0.000942   0.000348\n"
     ]
    },
    {
     "name": "stderr",
     "output_type": "stream",
     "text": [
      "\n"
     ]
    },
    {
     "name": "stdout",
     "output_type": "stream",
     "text": [
      "\n",
      "      Epoch    GPU_mem   box_loss   cls_loss   dfl_loss  Instances       Size\n"
     ]
    },
    {
     "name": "stderr",
     "output_type": "stream",
     "text": [
      "       2/40         7G      1.734      5.066      1.678   \n",
      "                 Class     Images  Instances      Box(P   "
     ]
    },
    {
     "name": "stdout",
     "output_type": "stream",
     "text": [
      "                   all         19         19   0.000301     0.0526   0.000231   6.94e-05\n"
     ]
    },
    {
     "name": "stderr",
     "output_type": "stream",
     "text": [
      "\n"
     ]
    },
    {
     "name": "stdout",
     "output_type": "stream",
     "text": [
      "\n",
      "      Epoch    GPU_mem   box_loss   cls_loss   dfl_loss  Instances       Size\n"
     ]
    },
    {
     "name": "stderr",
     "output_type": "stream",
     "text": [
      "       3/40      7.02G      1.148       3.05      1.133   \n",
      "                 Class     Images  Instances      Box(P   \n"
     ]
    },
    {
     "name": "stdout",
     "output_type": "stream",
     "text": [
      "                   all         19         19    0.00114      0.211   0.000774   7.74e-05\n",
      "\n",
      "      Epoch    GPU_mem   box_loss   cls_loss   dfl_loss  Instances       Size\n"
     ]
    },
    {
     "name": "stderr",
     "output_type": "stream",
     "text": [
      "       4/40      7.03G      1.176      2.091      1.137   \n",
      "                 Class     Images  Instances      Box(P   "
     ]
    },
    {
     "name": "stdout",
     "output_type": "stream",
     "text": [
      "                   all         19         19   0.000828      0.158   0.000485   4.85e-05\n"
     ]
    },
    {
     "name": "stderr",
     "output_type": "stream",
     "text": [
      "\n"
     ]
    },
    {
     "name": "stdout",
     "output_type": "stream",
     "text": [
      "\n",
      "      Epoch    GPU_mem   box_loss   cls_loss   dfl_loss  Instances       Size\n"
     ]
    },
    {
     "name": "stderr",
     "output_type": "stream",
     "text": [
      "       5/40      7.05G      1.223      1.686      1.195   \n",
      "                 Class     Images  Instances      Box(P   \n"
     ]
    },
    {
     "name": "stdout",
     "output_type": "stream",
     "text": [
      "                   all         19         19    0.00138      0.263    0.00129   0.000175\n",
      "\n",
      "      Epoch    GPU_mem   box_loss   cls_loss   dfl_loss  Instances       Size\n"
     ]
    },
    {
     "name": "stderr",
     "output_type": "stream",
     "text": [
      "       6/40      7.06G      1.038      1.314      1.088   \n",
      "                 Class     Images  Instances      Box(P   "
     ]
    },
    {
     "name": "stdout",
     "output_type": "stream",
     "text": [
      "                   all         19         19    0.00242      0.368    0.00291   0.000472\n"
     ]
    },
    {
     "name": "stderr",
     "output_type": "stream",
     "text": [
      "\n"
     ]
    },
    {
     "name": "stdout",
     "output_type": "stream",
     "text": [
      "\n",
      "      Epoch    GPU_mem   box_loss   cls_loss   dfl_loss  Instances       Size\n"
     ]
    },
    {
     "name": "stderr",
     "output_type": "stream",
     "text": [
      "       7/40      7.08G     0.9941      1.182      1.056   \n",
      "                 Class     Images  Instances      Box(P   \n"
     ]
    },
    {
     "name": "stdout",
     "output_type": "stream",
     "text": [
      "                   all         19         19    0.00171     0.0526    0.00101   0.000101\n",
      "\n",
      "      Epoch    GPU_mem   box_loss   cls_loss   dfl_loss  Instances       Size\n"
     ]
    },
    {
     "name": "stderr",
     "output_type": "stream",
     "text": [
      "       8/40       7.1G     0.8838      1.004      1.026   \n",
      "                 Class     Images  Instances      Box(P   "
     ]
    },
    {
     "name": "stdout",
     "output_type": "stream",
     "text": [
      "                   all         19         19          0          0          0          0\n"
     ]
    },
    {
     "name": "stderr",
     "output_type": "stream",
     "text": [
      "\n"
     ]
    },
    {
     "name": "stdout",
     "output_type": "stream",
     "text": [
      "\n",
      "      Epoch    GPU_mem   box_loss   cls_loss   dfl_loss  Instances       Size\n"
     ]
    },
    {
     "name": "stderr",
     "output_type": "stream",
     "text": [
      "       9/40      7.11G     0.9148     0.9432      1.038   \n",
      "                 Class     Images  Instances      Box(P   "
     ]
    },
    {
     "name": "stdout",
     "output_type": "stream",
     "text": [
      "                   all         19         19          0          0          0          0\n"
     ]
    },
    {
     "name": "stderr",
     "output_type": "stream",
     "text": [
      "\n"
     ]
    },
    {
     "name": "stdout",
     "output_type": "stream",
     "text": [
      "\n",
      "      Epoch    GPU_mem   box_loss   cls_loss   dfl_loss  Instances       Size\n"
     ]
    },
    {
     "name": "stderr",
     "output_type": "stream",
     "text": [
      "      10/40      7.12G     0.8869     0.8778      1.004   \n",
      "                 Class     Images  Instances      Box(P   "
     ]
    },
    {
     "name": "stdout",
     "output_type": "stream",
     "text": [
      "                   all         19         19          0          0          0          0\n"
     ]
    },
    {
     "name": "stderr",
     "output_type": "stream",
     "text": [
      "\n"
     ]
    },
    {
     "name": "stdout",
     "output_type": "stream",
     "text": [
      "\n",
      "      Epoch    GPU_mem   box_loss   cls_loss   dfl_loss  Instances       Size\n"
     ]
    },
    {
     "name": "stderr",
     "output_type": "stream",
     "text": [
      "      11/40      7.12G     0.8816     0.8468      1.036   \n",
      "                 Class     Images  Instances      Box(P   "
     ]
    },
    {
     "name": "stdout",
     "output_type": "stream",
     "text": [
      "                   all         19         19       0.25     0.0526      0.173      0.156\n"
     ]
    },
    {
     "name": "stderr",
     "output_type": "stream",
     "text": [
      "\n"
     ]
    },
    {
     "name": "stdout",
     "output_type": "stream",
     "text": [
      "\n",
      "      Epoch    GPU_mem   box_loss   cls_loss   dfl_loss  Instances       Size\n"
     ]
    },
    {
     "name": "stderr",
     "output_type": "stream",
     "text": [
      "      12/40      7.12G     0.8809     0.8832      1.013   \n",
      "                 Class     Images  Instances      Box(P   "
     ]
    },
    {
     "name": "stdout",
     "output_type": "stream",
     "text": [
      "                   all         19         19      0.207      0.947      0.853        0.6\n"
     ]
    },
    {
     "name": "stderr",
     "output_type": "stream",
     "text": [
      "\n"
     ]
    },
    {
     "name": "stdout",
     "output_type": "stream",
     "text": [
      "\n",
      "      Epoch    GPU_mem   box_loss   cls_loss   dfl_loss  Instances       Size\n"
     ]
    },
    {
     "name": "stderr",
     "output_type": "stream",
     "text": [
      "      13/40      7.12G     0.9027     0.8328      1.016   \n",
      "                 Class     Images  Instances      Box(P   "
     ]
    },
    {
     "name": "stdout",
     "output_type": "stream",
     "text": [
      "                   all         19         19          1      0.386      0.919      0.674\n"
     ]
    },
    {
     "name": "stderr",
     "output_type": "stream",
     "text": [
      "\n"
     ]
    },
    {
     "name": "stdout",
     "output_type": "stream",
     "text": [
      "\n",
      "      Epoch    GPU_mem   box_loss   cls_loss   dfl_loss  Instances       Size\n"
     ]
    },
    {
     "name": "stderr",
     "output_type": "stream",
     "text": [
      "      14/40      7.12G     0.8753     0.8683     0.9989   \n",
      "                 Class     Images  Instances      Box(P   "
     ]
    },
    {
     "name": "stdout",
     "output_type": "stream",
     "text": [
      "                   all         19         19      0.992      0.789      0.955      0.692\n"
     ]
    },
    {
     "name": "stderr",
     "output_type": "stream",
     "text": [
      "\n"
     ]
    },
    {
     "name": "stdout",
     "output_type": "stream",
     "text": [
      "\n",
      "      Epoch    GPU_mem   box_loss   cls_loss   dfl_loss  Instances       Size\n"
     ]
    },
    {
     "name": "stderr",
     "output_type": "stream",
     "text": [
      "      15/40      7.12G     0.9299     0.8997      1.044   \n",
      "                 Class     Images  Instances      Box(P   "
     ]
    },
    {
     "name": "stdout",
     "output_type": "stream",
     "text": [
      "                   all         19         19      0.943      0.879      0.978      0.612\n"
     ]
    },
    {
     "name": "stderr",
     "output_type": "stream",
     "text": [
      "\n"
     ]
    },
    {
     "name": "stdout",
     "output_type": "stream",
     "text": [
      "\n",
      "      Epoch    GPU_mem   box_loss   cls_loss   dfl_loss  Instances       Size\n"
     ]
    },
    {
     "name": "stderr",
     "output_type": "stream",
     "text": [
      "      16/40      7.12G     0.8984     0.8455      1.014   \n",
      "                 Class     Images  Instances      Box(P   "
     ]
    },
    {
     "name": "stdout",
     "output_type": "stream",
     "text": [
      "                   all         19         19      0.937      0.947      0.974      0.658\n"
     ]
    },
    {
     "name": "stderr",
     "output_type": "stream",
     "text": [
      "\n"
     ]
    },
    {
     "name": "stdout",
     "output_type": "stream",
     "text": [
      "\n",
      "      Epoch    GPU_mem   box_loss   cls_loss   dfl_loss  Instances       Size\n"
     ]
    },
    {
     "name": "stderr",
     "output_type": "stream",
     "text": [
      "      17/40      7.12G     0.8408     0.7362     0.9775   \n",
      "                 Class     Images  Instances      Box(P   "
     ]
    },
    {
     "name": "stdout",
     "output_type": "stream",
     "text": [
      "                   all         19         19      0.938      0.842      0.917       0.65\n"
     ]
    },
    {
     "name": "stderr",
     "output_type": "stream",
     "text": [
      "\n"
     ]
    },
    {
     "name": "stdout",
     "output_type": "stream",
     "text": [
      "\n",
      "      Epoch    GPU_mem   box_loss   cls_loss   dfl_loss  Instances       Size\n"
     ]
    },
    {
     "name": "stderr",
     "output_type": "stream",
     "text": [
      "      18/40      7.12G     0.8109     0.7275     0.9875   \n",
      "                 Class     Images  Instances      Box(P   "
     ]
    },
    {
     "name": "stdout",
     "output_type": "stream",
     "text": [
      "                   all         19         19      0.921      0.842      0.928      0.715\n"
     ]
    },
    {
     "name": "stderr",
     "output_type": "stream",
     "text": [
      "\n"
     ]
    },
    {
     "name": "stdout",
     "output_type": "stream",
     "text": [
      "\n",
      "      Epoch    GPU_mem   box_loss   cls_loss   dfl_loss  Instances       Size\n"
     ]
    },
    {
     "name": "stderr",
     "output_type": "stream",
     "text": [
      "      19/40      7.13G     0.8161     0.7395     0.9792   \n",
      "                 Class     Images  Instances      Box(P   "
     ]
    },
    {
     "name": "stdout",
     "output_type": "stream",
     "text": [
      "                   all         19         19      0.967      0.842      0.968      0.755\n"
     ]
    },
    {
     "name": "stderr",
     "output_type": "stream",
     "text": [
      "\n"
     ]
    },
    {
     "name": "stdout",
     "output_type": "stream",
     "text": [
      "\n",
      "      Epoch    GPU_mem   box_loss   cls_loss   dfl_loss  Instances       Size\n"
     ]
    },
    {
     "name": "stderr",
     "output_type": "stream",
     "text": [
      "      20/40      7.13G     0.8407     0.6838     0.9704   \n",
      "                 Class     Images  Instances      Box(P   "
     ]
    },
    {
     "name": "stdout",
     "output_type": "stream",
     "text": [
      "                   all         19         19          1      0.879      0.975      0.795\n"
     ]
    },
    {
     "name": "stderr",
     "output_type": "stream",
     "text": [
      "\n"
     ]
    },
    {
     "name": "stdout",
     "output_type": "stream",
     "text": [
      "\n",
      "      Epoch    GPU_mem   box_loss   cls_loss   dfl_loss  Instances       Size\n"
     ]
    },
    {
     "name": "stderr",
     "output_type": "stream",
     "text": [
      "      21/40      7.13G     0.7935     0.6869     0.9468   \n",
      "                 Class     Images  Instances      Box(P   "
     ]
    },
    {
     "name": "stdout",
     "output_type": "stream",
     "text": [
      "                   all         19         19      0.893      0.947       0.97       0.78\n"
     ]
    },
    {
     "name": "stderr",
     "output_type": "stream",
     "text": [
      "\n"
     ]
    },
    {
     "name": "stdout",
     "output_type": "stream",
     "text": [
      "\n",
      "      Epoch    GPU_mem   box_loss   cls_loss   dfl_loss  Instances       Size\n"
     ]
    },
    {
     "name": "stderr",
     "output_type": "stream",
     "text": [
      "      22/40      7.13G     0.7862     0.6641     0.9595   \n",
      "                 Class     Images  Instances      Box(P   "
     ]
    },
    {
     "name": "stdout",
     "output_type": "stream",
     "text": [
      "                   all         19         19      0.937      0.895      0.971      0.779\n"
     ]
    },
    {
     "name": "stderr",
     "output_type": "stream",
     "text": [
      "\n"
     ]
    },
    {
     "name": "stdout",
     "output_type": "stream",
     "text": [
      "\n",
      "      Epoch    GPU_mem   box_loss   cls_loss   dfl_loss  Instances       Size\n"
     ]
    },
    {
     "name": "stderr",
     "output_type": "stream",
     "text": [
      "      23/40      7.13G     0.8014      0.652     0.9639   \n",
      "                 Class     Images  Instances      Box(P   "
     ]
    },
    {
     "name": "stdout",
     "output_type": "stream",
     "text": [
      "                   all         19         19      0.897      0.947      0.974      0.767\n"
     ]
    },
    {
     "name": "stderr",
     "output_type": "stream",
     "text": [
      "\n"
     ]
    },
    {
     "name": "stdout",
     "output_type": "stream",
     "text": [
      "\n",
      "      Epoch    GPU_mem   box_loss   cls_loss   dfl_loss  Instances       Size\n"
     ]
    },
    {
     "name": "stderr",
     "output_type": "stream",
     "text": [
      "      24/40      7.13G     0.7166     0.6094     0.9476   \n",
      "                 Class     Images  Instances      Box(P   "
     ]
    },
    {
     "name": "stdout",
     "output_type": "stream",
     "text": [
      "                   all         19         19      0.863      0.992      0.923      0.722\n"
     ]
    },
    {
     "name": "stderr",
     "output_type": "stream",
     "text": [
      "\n"
     ]
    },
    {
     "name": "stdout",
     "output_type": "stream",
     "text": [
      "\n",
      "      Epoch    GPU_mem   box_loss   cls_loss   dfl_loss  Instances       Size\n"
     ]
    },
    {
     "name": "stderr",
     "output_type": "stream",
     "text": [
      "      25/40      7.13G     0.7253     0.6263     0.9496   \n",
      "                 Class     Images  Instances      Box(P   "
     ]
    },
    {
     "name": "stdout",
     "output_type": "stream",
     "text": [
      "                   all         19         19      0.853          1      0.932      0.726\n"
     ]
    },
    {
     "name": "stderr",
     "output_type": "stream",
     "text": [
      "\n"
     ]
    },
    {
     "name": "stdout",
     "output_type": "stream",
     "text": [
      "\n",
      "      Epoch    GPU_mem   box_loss   cls_loss   dfl_loss  Instances       Size\n"
     ]
    },
    {
     "name": "stderr",
     "output_type": "stream",
     "text": [
      "      26/40      7.13G     0.7478       0.63     0.9299   \n",
      "                 Class     Images  Instances      Box(P   "
     ]
    },
    {
     "name": "stdout",
     "output_type": "stream",
     "text": [
      "                   all         19         19      0.944      0.888      0.933       0.69\n"
     ]
    },
    {
     "name": "stderr",
     "output_type": "stream",
     "text": [
      "\n"
     ]
    },
    {
     "name": "stdout",
     "output_type": "stream",
     "text": [
      "\n",
      "      Epoch    GPU_mem   box_loss   cls_loss   dfl_loss  Instances       Size\n"
     ]
    },
    {
     "name": "stderr",
     "output_type": "stream",
     "text": [
      "      27/40      7.13G     0.7267     0.6157     0.9426   \n",
      "                 Class     Images  Instances      Box(P   "
     ]
    },
    {
     "name": "stdout",
     "output_type": "stream",
     "text": [
      "                   all         19         19      0.873      0.947      0.901      0.701\n"
     ]
    },
    {
     "name": "stderr",
     "output_type": "stream",
     "text": [
      "\n"
     ]
    },
    {
     "name": "stdout",
     "output_type": "stream",
     "text": [
      "\n",
      "      Epoch    GPU_mem   box_loss   cls_loss   dfl_loss  Instances       Size\n"
     ]
    },
    {
     "name": "stderr",
     "output_type": "stream",
     "text": [
      "      28/40      7.13G     0.6948     0.5751      0.929   \n",
      "                 Class     Images  Instances      Box(P   "
     ]
    },
    {
     "name": "stdout",
     "output_type": "stream",
     "text": [
      "                   all         19         19      0.858      0.954      0.913      0.704\n"
     ]
    },
    {
     "name": "stderr",
     "output_type": "stream",
     "text": [
      "\n"
     ]
    },
    {
     "name": "stdout",
     "output_type": "stream",
     "text": [
      "\n",
      "      Epoch    GPU_mem   box_loss   cls_loss   dfl_loss  Instances       Size\n"
     ]
    },
    {
     "name": "stderr",
     "output_type": "stream",
     "text": [
      "      29/40      7.13G     0.7095     0.6186      0.938   \n",
      "                 Class     Images  Instances      Box(P   "
     ]
    },
    {
     "name": "stdout",
     "output_type": "stream",
     "text": [
      "                   all         19         19      0.849          1      0.914      0.708\n"
     ]
    },
    {
     "name": "stderr",
     "output_type": "stream",
     "text": [
      "\n"
     ]
    },
    {
     "name": "stdout",
     "output_type": "stream",
     "text": [
      "\n",
      "      Epoch    GPU_mem   box_loss   cls_loss   dfl_loss  Instances       Size\n"
     ]
    },
    {
     "name": "stderr",
     "output_type": "stream",
     "text": [
      "      30/40      7.13G     0.6622     0.5579     0.9196   \n",
      "                 Class     Images  Instances      Box(P   "
     ]
    },
    {
     "name": "stdout",
     "output_type": "stream",
     "text": [
      "                   all         19         19      0.849          1      0.938      0.747\n"
     ]
    },
    {
     "name": "stderr",
     "output_type": "stream",
     "text": [
      "\n"
     ]
    },
    {
     "name": "stdout",
     "output_type": "stream",
     "text": [
      "Closing dataloader mosaic\n",
      "\n",
      "      Epoch    GPU_mem   box_loss   cls_loss   dfl_loss  Instances       Size\n"
     ]
    },
    {
     "name": "stderr",
     "output_type": "stream",
     "text": [
      "      31/40      7.13G     0.6352     0.6076     0.8976   \n",
      "                 Class     Images  Instances      Box(P   "
     ]
    },
    {
     "name": "stdout",
     "output_type": "stream",
     "text": [
      "                   all         19         19      0.863      0.947      0.959      0.771\n"
     ]
    },
    {
     "name": "stderr",
     "output_type": "stream",
     "text": [
      "\n"
     ]
    },
    {
     "name": "stdout",
     "output_type": "stream",
     "text": [
      "\n",
      "      Epoch    GPU_mem   box_loss   cls_loss   dfl_loss  Instances       Size\n"
     ]
    },
    {
     "name": "stderr",
     "output_type": "stream",
     "text": [
      "      32/40      7.13G     0.6522     0.5586     0.8703   \n",
      "                 Class     Images  Instances      Box(P   "
     ]
    },
    {
     "name": "stdout",
     "output_type": "stream",
     "text": [
      "                   all         19         19      0.891          1      0.964      0.755\n"
     ]
    },
    {
     "name": "stderr",
     "output_type": "stream",
     "text": [
      "\n"
     ]
    },
    {
     "name": "stdout",
     "output_type": "stream",
     "text": [
      "\n",
      "      Epoch    GPU_mem   box_loss   cls_loss   dfl_loss  Instances       Size\n"
     ]
    },
    {
     "name": "stderr",
     "output_type": "stream",
     "text": [
      "      33/40      7.13G     0.6088     0.5143     0.8615   \n",
      "                 Class     Images  Instances      Box(P   "
     ]
    },
    {
     "name": "stdout",
     "output_type": "stream",
     "text": [
      "                   all         19         19      0.849          1      0.964      0.787\n"
     ]
    },
    {
     "name": "stderr",
     "output_type": "stream",
     "text": [
      "\n"
     ]
    },
    {
     "name": "stdout",
     "output_type": "stream",
     "text": [
      "\n",
      "      Epoch    GPU_mem   box_loss   cls_loss   dfl_loss  Instances       Size\n"
     ]
    },
    {
     "name": "stderr",
     "output_type": "stream",
     "text": [
      "      34/40      7.13G     0.6053     0.5243     0.8657   \n",
      "                 Class     Images  Instances      Box(P   "
     ]
    },
    {
     "name": "stdout",
     "output_type": "stream",
     "text": [
      "                   all         19         19      0.861      0.982      0.952      0.768\n"
     ]
    },
    {
     "name": "stderr",
     "output_type": "stream",
     "text": [
      "\n"
     ]
    },
    {
     "name": "stdout",
     "output_type": "stream",
     "text": [
      "\n",
      "      Epoch    GPU_mem   box_loss   cls_loss   dfl_loss  Instances       Size\n"
     ]
    },
    {
     "name": "stderr",
     "output_type": "stream",
     "text": [
      "      35/40      7.13G     0.5879     0.4992     0.8594   \n",
      "                 Class     Images  Instances      Box(P   "
     ]
    },
    {
     "name": "stdout",
     "output_type": "stream",
     "text": [
      "                   all         19         19      0.858          1      0.975      0.791\n"
     ]
    },
    {
     "name": "stderr",
     "output_type": "stream",
     "text": [
      "\n"
     ]
    },
    {
     "name": "stdout",
     "output_type": "stream",
     "text": [
      "\n",
      "      Epoch    GPU_mem   box_loss   cls_loss   dfl_loss  Instances       Size\n"
     ]
    },
    {
     "name": "stderr",
     "output_type": "stream",
     "text": [
      "      36/40      7.13G     0.5931     0.4835     0.8789   \n",
      "                 Class     Images  Instances      Box(P   "
     ]
    },
    {
     "name": "stdout",
     "output_type": "stream",
     "text": [
      "                   all         19         19       0.95      0.992       0.99      0.801\n"
     ]
    },
    {
     "name": "stderr",
     "output_type": "stream",
     "text": [
      "\n"
     ]
    },
    {
     "name": "stdout",
     "output_type": "stream",
     "text": [
      "\n",
      "      Epoch    GPU_mem   box_loss   cls_loss   dfl_loss  Instances       Size\n"
     ]
    },
    {
     "name": "stderr",
     "output_type": "stream",
     "text": [
      "      37/40      7.13G     0.5808     0.4765     0.8676   \n",
      "                 Class     Images  Instances      Box(P   "
     ]
    },
    {
     "name": "stdout",
     "output_type": "stream",
     "text": [
      "                   all         19         19      0.947          1       0.99      0.804\n"
     ]
    },
    {
     "name": "stderr",
     "output_type": "stream",
     "text": [
      "\n"
     ]
    },
    {
     "name": "stdout",
     "output_type": "stream",
     "text": [
      "\n",
      "      Epoch    GPU_mem   box_loss   cls_loss   dfl_loss  Instances       Size\n"
     ]
    },
    {
     "name": "stderr",
     "output_type": "stream",
     "text": [
      "      38/40      7.15G     0.5811     0.4503     0.8596   \n",
      "                 Class     Images  Instances      Box(P   "
     ]
    },
    {
     "name": "stdout",
     "output_type": "stream",
     "text": [
      "                   all         19         19       0.94          1       0.99      0.805\n"
     ]
    },
    {
     "name": "stderr",
     "output_type": "stream",
     "text": [
      "\n"
     ]
    },
    {
     "name": "stdout",
     "output_type": "stream",
     "text": [
      "\n",
      "      Epoch    GPU_mem   box_loss   cls_loss   dfl_loss  Instances       Size\n"
     ]
    },
    {
     "name": "stderr",
     "output_type": "stream",
     "text": [
      "      39/40      7.15G     0.5443     0.4474     0.8587   \n",
      "                 Class     Images  Instances      Box(P   "
     ]
    },
    {
     "name": "stdout",
     "output_type": "stream",
     "text": [
      "                   all         19         19      0.947          1       0.99      0.819\n"
     ]
    },
    {
     "name": "stderr",
     "output_type": "stream",
     "text": [
      "\n"
     ]
    },
    {
     "name": "stdout",
     "output_type": "stream",
     "text": [
      "\n",
      "      Epoch    GPU_mem   box_loss   cls_loss   dfl_loss  Instances       Size\n"
     ]
    },
    {
     "name": "stderr",
     "output_type": "stream",
     "text": [
      "      40/40      7.15G     0.5745     0.4452     0.8793   \n",
      "                 Class     Images  Instances      Box(P   \n"
     ]
    },
    {
     "name": "stdout",
     "output_type": "stream",
     "text": [
      "                   all         19         19      0.949      0.985       0.99      0.819\n",
      "\n",
      "40 epochs completed in 0.020 hours.\n",
      "Optimizer stripped from yolo/yolov11 40 epochs2/weights/last.pt, 5.5MB\n",
      "Optimizer stripped from yolo/yolov11 40 epochs2/weights/best.pt, 5.5MB\n",
      "\n",
      "Validating yolo/yolov11 40 epochs2/weights/best.pt...\n",
      "Ultralytics 8.3.94 🚀 Python-3.10.12 torch-2.6.0+cu124 CUDA:0 (Quadro RTX 8000, 48407MiB)\n",
      "YOLO11n summary (fused): 100 layers, 2,582,347 parameters, 0 gradients, 6.3 GFLOPs\n"
     ]
    },
    {
     "name": "stderr",
     "output_type": "stream",
     "text": [
      "                 Class     Images  Instances      Box(P   \n"
     ]
    },
    {
     "name": "stdout",
     "output_type": "stream",
     "text": [
      "                   all         19         19      0.949      0.984       0.99      0.819\n",
      "Speed: 0.2ms preprocess, 1.0ms inference, 0.0ms loss, 0.5ms postprocess per image\n",
      "Results saved to \u001b[1myolo/yolov11 40 epochs2\u001b[0m\n"
     ]
    },
    {
     "data": {
      "text/html": [],
      "text/plain": [
       "<IPython.core.display.HTML object>"
      ]
     },
     "metadata": {},
     "output_type": "display_data"
    },
    {
     "data": {
      "text/html": [
       "<br>    <style><br>        .wandb-row {<br>            display: flex;<br>            flex-direction: row;<br>            flex-wrap: wrap;<br>            justify-content: flex-start;<br>            width: 100%;<br>        }<br>        .wandb-col {<br>            display: flex;<br>            flex-direction: column;<br>            flex-basis: 100%;<br>            flex: 1;<br>            padding: 10px;<br>        }<br>    </style><br><div class=\"wandb-row\"><div class=\"wandb-col\"><h3>Run history:</h3><br/><table class=\"wandb\"><tr><td>lr/pg0</td><td>█▇▇▆▆▅▅▄▄▃▃▂▂▁▁▁▁▁▁▁▁▁▁▁▁▁▁▁▁▁▁▁▁▁▁▁▁▁▁▁</td></tr><tr><td>lr/pg1</td><td>▁▂▃▃▄▅▅▆▆▇▇▇████▇▇▇▇▆▆▆▅▅▅▅▄▄▄▄▃▃▃▂▂▂▂▁▁</td></tr><tr><td>lr/pg2</td><td>▁▂▃▃▄▅▅▆▆▇▇▇████▇▇▇▇▆▆▆▅▅▅▅▄▄▄▄▃▃▃▂▂▂▂▁▁</td></tr><tr><td>metrics/mAP50(B)</td><td>▁▁▁▁▁▁▁▁▁▁▂▇████▇█████████▇▇▇███████████</td></tr><tr><td>metrics/mAP50-95(B)</td><td>▁▁▁▁▁▁▁▁▁▁▂▆▇▇▆▇▇▇▇████▇▇▇▇▇▇▇█▇████████</td></tr><tr><td>metrics/precision(B)</td><td>▁▁▁▁▁▁▁▁▁▁▃▂█████▇██▇█▇▇▇█▇▇▇▇▇▇▇▇▇█████</td></tr><tr><td>metrics/recall(B)</td><td>▄▁▂▂▃▄▁▁▁▁▁█▄▇▇█▇▇▇▇█▇███▇██████████████</td></tr><tr><td>model/GFLOPs</td><td>▁</td></tr><tr><td>model/parameters</td><td>▁</td></tr><tr><td>model/speed_PyTorch(ms)</td><td>▁</td></tr><tr><td>train/box_loss</td><td>█▇▄▄▄▃▃▃▃▃▃▃▃▃▃▃▂▂▂▂▂▂▂▂▂▂▂▂▂▂▁▂▁▁▁▁▁▁▁▁</td></tr><tr><td>train/cls_loss</td><td>█▇▅▃▃▂▂▂▂▂▂▂▂▂▂▂▁▁▁▁▁▁▁▁▁▁▁▁▁▁▁▁▁▁▁▁▁▁▁▁</td></tr><tr><td>train/dfl_loss</td><td>██▃▃▄▃▃▂▂▂▂▂▂▂▂▂▂▂▂▂▂▂▂▂▂▂▂▂▂▁▁▁▁▁▁▁▁▁▁▁</td></tr><tr><td>val/box_loss</td><td>▄█▆▅▄▄▄▄▃▃▃▂▂▂▂▂▂▁▁▁▁▁▁▁▁▁▁▁▁▁▁▁▁▁▁▁▁▁▁▁</td></tr><tr><td>val/cls_loss</td><td>▇▆███████▇▇▅▄▃▂▂▂▁▁▁▁▁▁▁▁▁▁▁▁▁▁▂▂▁▁▁▁▁▁▁</td></tr><tr><td>val/dfl_loss</td><td>▅█▇▇▆▅▄▄▅▃▂▁▁▁▂▂▂▁▁▁▁▁▁▁▁▁▁▁▁▁▁▁▁▁▁▁▁▁▁▁</td></tr></table><br/></div><div class=\"wandb-col\"><h3>Run summary:</h3><br/><table class=\"wandb\"><tr><td>lr/pg0</td><td>3e-05</td></tr><tr><td>lr/pg1</td><td>3e-05</td></tr><tr><td>lr/pg2</td><td>3e-05</td></tr><tr><td>metrics/mAP50(B)</td><td>0.99</td></tr><tr><td>metrics/mAP50-95(B)</td><td>0.81942</td></tr><tr><td>metrics/precision(B)</td><td>0.9492</td></tr><tr><td>metrics/recall(B)</td><td>0.98402</td></tr><tr><td>model/GFLOPs</td><td>6.441</td></tr><tr><td>model/parameters</td><td>2590035</td></tr><tr><td>model/speed_PyTorch(ms)</td><td>4.272</td></tr><tr><td>train/box_loss</td><td>0.5745</td></tr><tr><td>train/cls_loss</td><td>0.4452</td></tr><tr><td>train/dfl_loss</td><td>0.87928</td></tr><tr><td>val/box_loss</td><td>0.71082</td></tr><tr><td>val/cls_loss</td><td>0.46272</td></tr><tr><td>val/dfl_loss</td><td>0.90024</td></tr></table><br/></div></div>"
      ],
      "text/plain": [
       "<IPython.core.display.HTML object>"
      ]
     },
     "metadata": {},
     "output_type": "display_data"
    },
    {
     "data": {
      "text/html": [
       " View run <strong style=\"color:#cdcd00\">yolov11 40 epochs2</strong> at: <a href='https://wandb.ai/abk171-university-of-pittsburgh/yolo/runs/zl65o5x7' target=\"_blank\">https://wandb.ai/abk171-university-of-pittsburgh/yolo/runs/zl65o5x7</a><br> View project at: <a href='https://wandb.ai/abk171-university-of-pittsburgh/yolo' target=\"_blank\">https://wandb.ai/abk171-university-of-pittsburgh/yolo</a><br>Synced 5 W&B file(s), 20 media file(s), 10 artifact file(s) and 0 other file(s)"
      ],
      "text/plain": [
       "<IPython.core.display.HTML object>"
      ]
     },
     "metadata": {},
     "output_type": "display_data"
    },
    {
     "data": {
      "text/html": [
       "Find logs at: <code>./wandb/run-20250323_172358-zl65o5x7/logs</code>"
      ],
      "text/plain": [
       "<IPython.core.display.HTML object>"
      ]
     },
     "metadata": {},
     "output_type": "display_data"
    }
   ],
   "source": [
    "\n",
    "\n",
    "results = model.train(\n",
    "    data='data_yolo.yaml',\n",
    "    imgsz=[450, 1100],\n",
    "    epochs=40,\n",
    "    patience= 0,\n",
    "    batch=16,\n",
    "    workers=4,\n",
    "    optimizer='AdamW',\n",
    "    lr0=0.001, fliplr=0.5,crop_fraction=0.2,\n",
    "    project=\"yolo\",name=\"yolov11 40 epochs\"\n",
    "    )"
   ]
  },
  {
   "cell_type": "code",
   "execution_count": 9,
   "id": "25d6099b-a9b4-4e85-94c7-18751b9546fb",
   "metadata": {},
   "outputs": [],
   "source": [
    "badset = {'97.dcm', '95.dcm', '178.dcm'}\n",
    "for i in badset:\n",
    "    dicom_path = os.path.join(dicom_dir, i)\n",
    "    img_array = load_dicom(dicom_path)\n",
    "    img_jpg = dicom_to_jpg(img_array)\n",
    "\n",
    "    img_filename = i.replace('.dcm', '.jpg')\n",
    "    img_jpg.save(os.path.join(image_test_dir, img_filename))"
   ]
  },
  {
   "cell_type": "code",
   "execution_count": 10,
   "id": "889ae991-f676-42b5-a902-3625b419295a",
   "metadata": {},
   "outputs": [
    {
     "name": "stdout",
     "output_type": "stream",
     "text": [
      "\n",
      "WARNING ⚠️ imgsz=[450, 1100] must be multiple of max stride 32, updating to [480, 1120]\n",
      "image 1/3 /home/abk171/hexai_work/data_yolo/images/test/178.jpg: 480x1120 1 ulnar, 6.8ms\n",
      "image 2/3 /home/abk171/hexai_work/data_yolo/images/test/95.jpg: 480x1120 (no detections), 7.4ms\n",
      "image 3/3 /home/abk171/hexai_work/data_yolo/images/test/97.jpg: 480x1120 1 ulnar, 8.0ms\n",
      "Speed: 3.6ms preprocess, 7.4ms inference, 0.9ms postprocess per image at shape (1, 3, 480, 1120)\n",
      "Results saved to \u001b[1myolo/yolov11 40 epochs22\u001b[0m\n"
     ]
    }
   ],
   "source": [
    "results = model(image_test_dir, imgsz=[450,1100], save=True)"
   ]
  }
 ],
 "metadata": {
  "kernelspec": {
   "display_name": "Python 3 (ipykernel)",
   "language": "python",
   "name": "python3"
  },
  "language_info": {
   "codemirror_mode": {
    "name": "ipython",
    "version": 3
   },
   "file_extension": ".py",
   "mimetype": "text/x-python",
   "name": "python",
   "nbconvert_exporter": "python",
   "pygments_lexer": "ipython3",
   "version": "3.10.12"
  }
 },
 "nbformat": 4,
 "nbformat_minor": 5
}
