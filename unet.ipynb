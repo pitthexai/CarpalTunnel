{
 "cells": [
  {
   "cell_type": "code",
   "execution_count": 1,
   "id": "9197d291-c45c-4b09-96d7-ed7f9788a631",
   "metadata": {},
   "outputs": [],
   "source": [
    "import os\n",
    "import pydicom"
   ]
  },
  {
   "cell_type": "code",
   "execution_count": 2,
   "id": "c8fbd899-b7b6-4f00-9cfd-a0474398ee2a",
   "metadata": {},
   "outputs": [],
   "source": [
    "restructured_root = 'data_yolo'\n",
    "image_dir = os.path.join(restructured_root, 'images')\n",
    "image_train_dir = os.path.join(image_dir, 'train')\n",
    "image_val_dir = os.path.join(image_dir, 'val')\n",
    "image_test_dir = os.path.join(image_dir, 'test')\n",
    "label_dir = os.path.join(restructured_root, 'labels')\n",
    "label_train_dir = os.path.join(label_dir, 'train')\n",
    "label_val_dir = os.path.join(label_dir, 'val')"
   ]
  },
  {
   "cell_type": "code",
   "execution_count": null,
   "id": "14094a62-f14a-4f40-82b8-d0f5591b0f51",
   "metadata": {},
   "outputs": [],
   "source": [
    "anno_dir = '/data_vault/hexai02/CarpalTunnel/Annotations'\n",
    "dicom_dir = '/data_vault/hexai02/CarpalTunnel/Images'"
   ]
  },
  {
   "cell_type": "code",
   "execution_count": null,
   "id": "85ed98de-56ee-4fcb-86cb-dd684fe24b1d",
   "metadata": {},
   "outputs": [],
   "source": [
    "def load_mask(mask_path):\n",
    "    mask = sitk.ReadImage(mask_path)\n",
    "    return sitk.GetArrayFromImage(mask)[0][: 450, 200: 1300]\n",
    "\n",
    "def load_dicom(dicom_path):\n",
    "    dicom_data = pydicom.dcmread(dicom_path)\n",
    "    return dicom_data.pixel_array[: 450, 200: 1300]"
   ]
  },
  {
   "cell_type": "code",
   "execution_count": null,
   "id": "c43e0a65-ee7c-4045-b4b3-892b55fa7fdb",
   "metadata": {},
   "outputs": [],
   "source": [
    "badset = {'97.dcm', '95.dcm', '178.dcm'}"
   ]
  },
  {
   "cell_type": "code",
   "execution_count": null,
   "id": "ee305a7a-5037-4372-b779-576115c886cf",
   "metadata": {},
   "outputs": [],
   "source": [
    "train_images = []\n",
    "train_masks = []\n",
    "val_images = []\n",
    "val_masks = []\n",
    "\n",
    "def fill_arr(img_dir, img_bucket,filetype='.dcm'):\n",
    "    for jpg_name in img_dir:\n",
    "        filename = jpg_name.split('.')[0] + filetype\n",
    "        dicom_img = load_dicom(os.path.join(dicom_dir, filename)\n",
    "        img_bucket.append(dicom_img)\n",
    "\n"
   ]
  }
 ],
 "metadata": {
  "kernelspec": {
   "display_name": "Python 3 (ipykernel)",
   "language": "python",
   "name": "python3"
  },
  "language_info": {
   "codemirror_mode": {
    "name": "ipython",
    "version": 3
   },
   "file_extension": ".py",
   "mimetype": "text/x-python",
   "name": "python",
   "nbconvert_exporter": "python",
   "pygments_lexer": "ipython3",
   "version": "3.10.12"
  }
 },
 "nbformat": 4,
 "nbformat_minor": 5
}
